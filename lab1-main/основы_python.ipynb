{
 "cells": [
  {
   "cell_type": "markdown",
   "metadata": {
    "id": "M-DGa20PaHnu"
   },
   "source": [
    "# Задача 1\n",
    "Написать функцию на вход которой подается строка, состоящая из латинских букв.\n",
    "Функция должна вернуть количество гласных букв (a, e, i, o, u) в этой строке. Написать тесты для кода"
   ]
  },
  {
   "cell_type": "code",
   "execution_count": 1,
   "metadata": {
    "id": "XvX8X_JJ6PCb"
   },
   "outputs": [],
   "source": [
    "def get_cnt_vowel(line:str) -> dict:\n",
    "    vowels = ('a', 'o', 'e', 'i', 'u', 'y')\n",
    "    dict_cnt = {i:0 for i in vowels}\n",
    "    for vowel in vowels:\n",
    "        dict_cnt[vowel] = line.count(vowel)\n",
    "    return dict_cnt"
   ]
  },
  {
   "cell_type": "code",
   "execution_count": 2,
   "metadata": {},
   "outputs": [
    {
     "name": "stdout",
     "output_type": "stream",
     "text": [
      "{'a': 1, 'o': 1, 'e': 1, 'i': 1, 'u': 1, 'y': 1}\n",
      "{'a': 2, 'o': 2, 'e': 2, 'i': 2, 'u': 2, 'y': 2}\n",
      "{'a': 4, 'o': 7, 'e': 8, 'i': 9, 'u': 0, 'y': 2}\n",
      "{'a': 7, 'o': 3, 'e': 7, 'i': 4, 'u': 4, 'y': 0}\n"
     ]
    }
   ],
   "source": [
    "print(get_cnt_vowel('aoeiuy'))\n",
    "print(get_cnt_vowel('aoeiuy'*2))\n",
    "print(get_cnt_vowel('Alice was beginning to get very tired of sitting by her sister on the bank, and of having nothing to do'))\n",
    "print(get_cnt_vowel('In vector calculus, the gradient of a scalar-valued differentiable function'))"
   ]
  },
  {
   "cell_type": "markdown",
   "metadata": {
    "id": "t2ClV_Y0bbr6"
   },
   "source": [
    "# Задача 2\n",
    "Написать функцию на вход, которой подается строка. Функция должна вернуть true, если\n",
    "каждый символ в строке встречается только 1 раз, иначе должна вернуть false. Написать тесты для кода"
   ]
  },
  {
   "cell_type": "code",
   "execution_count": 3,
   "metadata": {
    "id": "FppbECao6VIz"
   },
   "outputs": [],
   "source": [
    "def is_set(line:str) -> bool:\n",
    "    return len(line) == len(set(line))"
   ]
  },
  {
   "cell_type": "code",
   "execution_count": 4,
   "metadata": {},
   "outputs": [
    {
     "name": "stdout",
     "output_type": "stream",
     "text": [
      "True\n",
      "False\n",
      "False\n",
      "True\n"
     ]
    }
   ],
   "source": [
    "print(is_set('lo ad'))\n",
    "print(is_set('lo ad '))\n",
    "print(is_set('smiley face'))\n",
    "print(is_set('abcde'))"
   ]
  },
  {
   "cell_type": "markdown",
   "metadata": {
    "id": "udRiIK1cdt6E"
   },
   "source": [
    "# Задача 3\n",
    "Написать функцию, которая принимает положительное число и возвращает количество\n",
    "бит равных 1 в этом числе. Написать тесты для кода"
   ]
  },
  {
   "cell_type": "code",
   "execution_count": 5,
   "metadata": {
    "id": "6tkfDJRz6dp_"
   },
   "outputs": [],
   "source": [
    "def get_cnt_bit(x:int) -> int:\n",
    "    cnt = 0\n",
    "    while x > 0:\n",
    "        cnt += x % 2\n",
    "        x //= 2\n",
    "    return cnt"
   ]
  },
  {
   "cell_type": "code",
   "execution_count": 6,
   "metadata": {},
   "outputs": [
    {
     "name": "stdout",
     "output_type": "stream",
     "text": [
      "0\n",
      "1\n",
      "1\n",
      "2\n",
      "1\n",
      "2\n"
     ]
    }
   ],
   "source": [
    "print(get_cnt_bit(0)) # 0 - 0\n",
    "print(get_cnt_bit(1)) # 1 - 1\n",
    "print(get_cnt_bit(2)) # 10 - 1\n",
    "print(get_cnt_bit(3)) # 11 - 2\n",
    "print(get_cnt_bit(4)) # 100 - 1\n",
    "print(get_cnt_bit(5)) # 101 - 2"
   ]
  },
  {
   "cell_type": "markdown",
   "metadata": {
    "id": "26dDUz-Ae17N"
   },
   "source": [
    "# Задача 4\n",
    "Написать функцию, которая принимает положительное число. Функция должна вернуть то,\n",
    "сколько раз необходимо перемножать цифры числа или результат перемножения, чтобы\n",
    "получилось число состоящее из одной цифры.\n",
    "Например, для входного числа:\n",
    "· 39 функция должна вернуть 3, так как 3*9=27 => 2*7=14 => 1*4=4\n",
    "· 4 функция должна вернуть 0, так как число уже состоит из одной цифры\n",
    "· 999 функция должна вернуть 4, так как 9*9*9=729 => 7*2*9=126 => 1*2*6=12 =>\n",
    "1*2=2. Написать тесты для кода"
   ]
  },
  {
   "cell_type": "code",
   "execution_count": 7,
   "metadata": {
    "id": "BH1A_Mgi6i4G"
   },
   "outputs": [],
   "source": [
    "def magic(n):\n",
    "    cnt = 0\n",
    "    while n >= 10:\n",
    "        n_temp = 1\n",
    "        for n_i in str(n):\n",
    "            n_temp *= int(n_i)\n",
    "        n = n_temp\n",
    "        cnt += 1\n",
    "    return cnt"
   ]
  },
  {
   "cell_type": "code",
   "execution_count": 8,
   "metadata": {},
   "outputs": [
    {
     "name": "stdout",
     "output_type": "stream",
     "text": [
      "3\n",
      "0\n",
      "4\n",
      "1\n",
      "1\n",
      "3\n"
     ]
    }
   ],
   "source": [
    "print(magic(39))\n",
    "print(magic(4))\n",
    "print(magic(999))\n",
    "print(magic(120))\n",
    "print(magic(10000000))\n",
    "print(magic(12346789))"
   ]
  },
  {
   "cell_type": "markdown",
   "metadata": {
    "id": "0nS-kIa8g8vd"
   },
   "source": [
    "# Задача 5\n",
    "Написать функцию, которая принимает два целочисленных вектора одинаковой длины и\n",
    "возвращает среднеквадратическое отклонение двух векторов. Написать тесты для кода"
   ]
  },
  {
   "cell_type": "code",
   "execution_count": 9,
   "metadata": {
    "id": "8iphx4LM6xbx"
   },
   "outputs": [],
   "source": [
    "def mse(pred, true):\n",
    "    ans = 0\n",
    "    for i, j in zip(pred, true):\n",
    "        ans += (i - j) ** 2\n",
    "    return ans / len(pred)"
   ]
  },
  {
   "cell_type": "code",
   "execution_count": 10,
   "metadata": {},
   "outputs": [
    {
     "name": "stdout",
     "output_type": "stream",
     "text": [
      "0.0\n",
      "1.0\n",
      "81.0\n",
      "41.0\n",
      "81.0\n",
      "54.333333333333336\n"
     ]
    }
   ],
   "source": [
    "print(mse([1],[1]))\n",
    "print(mse([1],[2]))\n",
    "print(mse([10],[1]))\n",
    "print(mse([10,4],[1,3]))\n",
    "print(mse([10,10],[1,1]))\n",
    "print(mse([10, 10, 1],[1, 1, 2]))"
   ]
  },
  {
   "cell_type": "markdown",
   "metadata": {
    "id": "vpIPKL439zkw"
   },
   "source": [
    "# Задача 6\n",
    "Написать функцию, принимающая целое положительное число. Функция должна вернуть\n",
    "строку вида “(n1**p1)(n2**p2)…(nk**pk)” представляющая разложение числа на простые\n",
    "множители (если pi == 1, то выводить только ni).\n",
    "Например, для числа 86240 функция должна вернуть “(2**5)(5)(7**2)(11)”. Написать тесты для кода"
   ]
  },
  {
   "cell_type": "code",
   "execution_count": 11,
   "metadata": {
    "id": "pFebmcZk94Jw"
   },
   "outputs": [],
   "source": [
    "def f(n):\n",
    "    x = 2\n",
    "    d_ans = {x: 0}\n",
    "    while x <= n:\n",
    "        if n % x == 0:\n",
    "            if x not in d_ans:\n",
    "                d_ans[x] = 0\n",
    "            d_ans[x] += 1\n",
    "            n //= x\n",
    "        else:\n",
    "            x += 1\n",
    "    \n",
    "    if n > 1:\n",
    "        d_ans[n] += 1\n",
    "        \n",
    "    ans = ''\n",
    "    for i in d_ans:\n",
    "        if d_ans[i] > 1:\n",
    "            ans += f'({i}**{d_ans[i]})'\n",
    "        elif d_ans[i] == 1:\n",
    "            ans += f'({i})'\n",
    "        \n",
    "    return ans"
   ]
  },
  {
   "cell_type": "code",
   "execution_count": 12,
   "metadata": {},
   "outputs": [
    {
     "name": "stdout",
     "output_type": "stream",
     "text": [
      "(2**5)(5)(7**2)(11)\n",
      "(2)\n",
      "(2**2)(5**5)(7**12)\n"
     ]
    }
   ],
   "source": [
    "print(f(86240))\n",
    "print(f(2))\n",
    "print(f(2**2 * 5**5 * 7**12))"
   ]
  },
  {
   "cell_type": "markdown",
   "metadata": {
    "id": "ps2s0BudX7A2"
   },
   "source": [
    "# Задача 7\n",
    "Написать функцию, принимающая целое число n, задающее количество кубиков. Функция\n",
    "должна определить, можно ли из данного кол-ва кубиков построить пирамиду, то есть\n",
    "можно ли представить число n как 1^2+2^2+3^2+…+k^2. Если можно, то функция должна\n",
    "вернуть k, иначе строку “It is impossible”. Написать тесты для кода"
   ]
  },
  {
   "cell_type": "code",
   "execution_count": 13,
   "metadata": {
    "id": "3YPjEXxhX_YT"
   },
   "outputs": [],
   "source": [
    "def pyramid(number):\n",
    "    i = 1\n",
    "    while number > 0:\n",
    "        number -= i ** 2\n",
    "        i += 1\n",
    "    if number == 0:\n",
    "        return i - 1\n",
    "    return 'It is impossible'"
   ]
  },
  {
   "cell_type": "code",
   "execution_count": 14,
   "metadata": {},
   "outputs": [
    {
     "name": "stdout",
     "output_type": "stream",
     "text": [
      "5\n",
      "It is impossible\n",
      "It is impossible\n",
      "2\n",
      "1\n"
     ]
    }
   ],
   "source": [
    "print(pyramid(5 + 9 + 4 ** 2 + 5 ** 2))\n",
    "print(pyramid(5 + 9 + 4 ** 2 + 5 ** 2 - 1))\n",
    "print(pyramid(5 + 9 + 4 ** 2 + 5 ** 2 + 10))\n",
    "print(pyramid(5))\n",
    "print(pyramid(1))"
   ]
  },
  {
   "cell_type": "markdown",
   "metadata": {
    "id": "KeKgmIdAQMEJ"
   },
   "source": [
    "# Задача 8\n",
    "Функция принимает на вход положительное число и определяет является ли оно сбалансированным, т.е. сумма цифр до средних равна сумме цифр после. Средними в случае нечетного числа цифр считать одну цифру, в случае четного - две средних. Написать тесты для кода"
   ]
  },
  {
   "cell_type": "code",
   "execution_count": 15,
   "metadata": {},
   "outputs": [],
   "source": [
    "from math import floor, ceil"
   ]
  },
  {
   "cell_type": "code",
   "execution_count": 16,
   "metadata": {
    "id": "gMAAqtqlQrZt"
   },
   "outputs": [],
   "source": [
    "def f(x):\n",
    "    x = str(x)\n",
    "    x1 = x[:ceil(len(x) / 2)]\n",
    "    x2 = x[len(x) // 2:]\n",
    "    return sum([int(i) for i in x1]) == sum([int(i) for i in x2])"
   ]
  },
  {
   "cell_type": "code",
   "execution_count": 17,
   "metadata": {},
   "outputs": [
    {
     "name": "stdout",
     "output_type": "stream",
     "text": [
      "True\n",
      "True\n",
      "False\n",
      "True\n"
     ]
    }
   ],
   "source": [
    "print(f(123123))\n",
    "print(f(700610))\n",
    "print(f(1144))\n",
    "print(f(111))"
   ]
  },
  {
   "cell_type": "code",
   "execution_count": null,
   "metadata": {},
   "outputs": [],
   "source": []
  }
 ],
 "metadata": {
  "colab": {
   "provenance": []
  },
  "kernelspec": {
   "display_name": "Python 3 (ipykernel)",
   "language": "python",
   "name": "python3"
  },
  "language_info": {
   "codemirror_mode": {
    "name": "ipython",
    "version": 3
   },
   "file_extension": ".py",
   "mimetype": "text/x-python",
   "name": "python",
   "nbconvert_exporter": "python",
   "pygments_lexer": "ipython3",
   "version": "3.10.0"
  }
 },
 "nbformat": 4,
 "nbformat_minor": 1
}
