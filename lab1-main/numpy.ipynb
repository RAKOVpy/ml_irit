{
 "cells": [
  {
   "cell_type": "markdown",
   "metadata": {
    "id": "vC84e9kzyxPy"
   },
   "source": [
    "<h1>Импорт библиотек"
   ]
  },
  {
   "cell_type": "code",
   "execution_count": 1,
   "metadata": {
    "id": "cgKeNegmQG5S"
   },
   "outputs": [],
   "source": [
    "import numpy as np\n",
    "import matplotlib.pyplot as plt"
   ]
  },
  {
   "cell_type": "markdown",
   "metadata": {
    "id": "qFM9uVU2x4Ls"
   },
   "source": [
    "<h1>Задача 1. Дан набор из $p$ матриц размерностью $(n, n)$ и $p$ векторов размерностью $(n, 1)$, найти сумму произведений матриц на векторы. Написать тесты для кода"
   ]
  },
  {
   "cell_type": "code",
   "execution_count": 2,
   "metadata": {
    "id": "IAbUvEiYyWFF"
   },
   "outputs": [],
   "source": [
    "def sum_prod(X, V):\n",
    "    '''\n",
    "    X - матрицы (n, n)\n",
    "    V - векторы (n, 1)\n",
    "    Гарантируется, что len(X) == len(V)\n",
    "    '''\n",
    "    return np.matmul(X, V[..., np.newaxis]).sum()"
   ]
  },
  {
   "cell_type": "markdown",
   "metadata": {},
   "source": [
    "Тесты"
   ]
  },
  {
   "cell_type": "code",
   "execution_count": 3,
   "metadata": {},
   "outputs": [
    {
     "name": "stdout",
     "output_type": "stream",
     "text": [
      "[[[1 0 0]\n",
      "  [0 1 0]\n",
      "  [0 0 1]]\n",
      "\n",
      " [[1 0 0]\n",
      "  [0 1 0]\n",
      "  [0 0 1]]]\n",
      "\n",
      "[[7 5 3]\n",
      " [7 5 3]]\n",
      "\n",
      "30\n",
      "--------------------------------------------------\n",
      "[[[2 0 0]\n",
      "  [0 1 0]\n",
      "  [0 0 1]]\n",
      "\n",
      " [[1 0 0]\n",
      "  [0 1 0]\n",
      "  [0 0 1]]]\n",
      "\n",
      "[[7 5 3]\n",
      " [7 5 3]]\n",
      "\n",
      "37\n",
      "--------------------------------------------------\n",
      "[[[0.94287884 0.53180862 0.21944886 0.38699394]\n",
      "  [0.20182424 0.18941884 0.17607132 0.52489304]\n",
      "  [0.63183396 0.17552546 0.4367055  0.18741482]\n",
      "  [0.42094956 0.25584133 0.4470589  0.97775407]]\n",
      "\n",
      " [[0.28968529 0.63320763 0.92218782 0.34546937]\n",
      "  [0.33011017 0.59582015 0.53190069 0.24642501]\n",
      "  [0.36586426 0.72285323 0.05183036 0.16576181]\n",
      "  [0.15914228 0.70672914 0.59676587 0.10221771]]\n",
      "\n",
      " [[0.86758577 0.72228268 0.07192714 0.73881224]\n",
      "  [0.40939913 0.4457096  0.15407571 0.28850709]\n",
      "  [0.56813966 0.22723082 0.24590163 0.40680645]\n",
      "  [0.63560732 0.59333471 0.67999603 0.51335966]]]\n",
      "\n",
      "[[0.32359638 0.46615174 0.33401958 0.61681705]\n",
      " [0.4872871  0.15990767 0.14391457 0.68977492]\n",
      " [0.9462702  0.21357747 0.43733127 0.18657813]]\n",
      "\n",
      "8.474832046664332\n",
      "--------------------------------------------------\n"
     ]
    }
   ],
   "source": [
    "X = np.array([[[1,0,0],[0,1,0],[0,0,1]], [[1,0,0],[0,1,0],[0,0,1]]])\n",
    "V = np.array([[7,5,3], [7,5,3]])\n",
    "print(X, end='\\n\\n')\n",
    "print(V, end='\\n\\n')\n",
    "print(sum_prod(X, V))\n",
    "print('-'*50)\n",
    "\n",
    "X = np.array([[[2,0,0],[0,1,0],[0,0,1]], [[1,0,0],[0,1,0],[0,0,1]]])\n",
    "V = np.array([[7,5,3], [7,5,3]])\n",
    "print(X, end='\\n\\n')\n",
    "print(V, end='\\n\\n')\n",
    "print(sum_prod(X, V))\n",
    "print('-'*50)\n",
    "\n",
    "\n",
    "p = 3\n",
    "n = 4\n",
    "X = np.random.rand(p, n, n)\n",
    "V = np.random.rand(p, n)\n",
    "print(X, end='\\n\\n')\n",
    "print(V, end='\\n\\n')\n",
    "print(sum_prod(X, V))\n",
    "print('-'*50)"
   ]
  },
  {
   "cell_type": "markdown",
   "metadata": {
    "id": "TKwPG4fIy2w4"
   },
   "source": [
    "<h1>Задача 2. Дана матрица M, напишите функцию, которая бинаризует матрицу по некоторому threshold (то есть, все значения большие threshold становятся равными 1, иначе 0). Напишите тесты для кода"
   ]
  },
  {
   "cell_type": "code",
   "execution_count": 4,
   "metadata": {
    "id": "KQDNMgsjRNH7"
   },
   "outputs": [],
   "source": [
    "def binarize(M, threshold=0.5):\n",
    "    # Your code goes here\n",
    "    return (M > threshold).astype(int)"
   ]
  },
  {
   "cell_type": "markdown",
   "metadata": {},
   "source": [
    "Тесты"
   ]
  },
  {
   "cell_type": "code",
   "execution_count": 5,
   "metadata": {},
   "outputs": [
    {
     "name": "stdout",
     "output_type": "stream",
     "text": [
      "[[ 10  15  20  50]\n",
      " [ 10  16  20  50]\n",
      " [100   7   3   8]]\n",
      "\n",
      "[[0 0 1 1]\n",
      " [0 1 1 1]\n",
      " [1 0 0 0]]\n",
      "--------------------------------------------------\n",
      "[[0.14 0.69 0.41 0.1  0.98]\n",
      " [0.63 0.43 0.07 0.32 0.73]]\n",
      "\n",
      "[[0 1 0 0 1]\n",
      " [1 0 0 0 1]]\n",
      "--------------------------------------------------\n",
      "[[11 24 19]\n",
      " [45 19 13]\n",
      " [ 6 40 48]]\n",
      "\n",
      "[[0 0 0]\n",
      " [1 0 0]\n",
      " [0 1 1]]\n",
      "--------------------------------------------------\n"
     ]
    }
   ],
   "source": [
    "M = np.array([[10, 15, 20, 50], [10, 16, 20, 50], [100, 7, 3, 8]])\n",
    "print(M, end='\\n\\n')\n",
    "print(binarize(M, 15))\n",
    "print('-'*50)\n",
    "\n",
    "M = np.random.rand(2,5).round(2)\n",
    "print(M, end='\\n\\n')\n",
    "print(binarize(M))\n",
    "print('-'*50)\n",
    "\n",
    "M = (np.random.rand(3,3)*50).astype(int)\n",
    "print(M, end='\\n\\n')\n",
    "print(binarize(M, M.mean()))\n",
    "print('-'*50)"
   ]
  },
  {
   "cell_type": "markdown",
   "metadata": {
    "id": "IY5L-h-7zWhN"
   },
   "source": [
    "<h1>Задача 3. Напишите функцию, которая возвращает уникальные элементы из каждой строки матрицы. Напишите такую же функцию, но для столбцов. Напишите тесты для кода"
   ]
  },
  {
   "cell_type": "code",
   "execution_count": 6,
   "metadata": {
    "id": "-8dEZhR0SBC-"
   },
   "outputs": [],
   "source": [
    "def unique_rows(mat):\n",
    "    ans = []\n",
    "    for i in mat:\n",
    "        ans.append(np.unique(i))\n",
    "    return ans\n",
    "\n",
    "def unique_columns(mat):\n",
    "    ans = []\n",
    "    for i in range(mat.shape[1]):\n",
    "        ans.append(np.unique(mat[:, i]))\n",
    "    return ans"
   ]
  },
  {
   "cell_type": "markdown",
   "metadata": {},
   "source": [
    "Тесты"
   ]
  },
  {
   "cell_type": "code",
   "execution_count": 7,
   "metadata": {
    "scrolled": false
   },
   "outputs": [
    {
     "name": "stdout",
     "output_type": "stream",
     "text": [
      "[[3 6 3 9]\n",
      " [6 1 4 1]\n",
      " [4 1 9 3]]\n",
      "\n",
      "[3 6 9]\n",
      "[1 4 6]\n",
      "[1 3 4 9]\n",
      "\n",
      "[3 4 6]\n",
      "[1 6]\n",
      "[3 4 9]\n",
      "[1 3 9]\n",
      "--------------------------------------------------\n",
      "[[8 4 5 6 7]\n",
      " [7 4 9 8 4]\n",
      " [4 4 1 9 3]\n",
      " [9 7 7 8 3]\n",
      " [2 2 5 8 3]]\n",
      "\n",
      "[4 5 6 7 8]\n",
      "[4 7 8 9]\n",
      "[1 3 4 9]\n",
      "[3 7 8 9]\n",
      "[2 3 5 8]\n",
      "\n",
      "[2 4 7 8 9]\n",
      "[2 4 7]\n",
      "[1 5 7 9]\n",
      "[6 8 9]\n",
      "[3 4 7]\n",
      "--------------------------------------------------\n",
      "[[4 6]\n",
      " [5 6]\n",
      " [7 0]\n",
      " [4 1]\n",
      " [6 8]\n",
      " [6 8]\n",
      " [7 5]\n",
      " [2 3]]\n",
      "\n",
      "[4 6]\n",
      "[5 6]\n",
      "[0 7]\n",
      "[1 4]\n",
      "[6 8]\n",
      "[6 8]\n",
      "[5 7]\n",
      "[2 3]\n",
      "\n",
      "[2 4 5 6 7]\n",
      "[0 1 3 5 6 8]\n",
      "--------------------------------------------------\n"
     ]
    }
   ],
   "source": [
    "X = (np.random.rand(3,4)*10).astype(int)\n",
    "print(X, end='\\n\\n')\n",
    "[print(i) for i in unique_rows(X)]\n",
    "print()\n",
    "[print(i) for i in unique_columns(X)]\n",
    "print('-'*50)\n",
    "\n",
    "X = (np.random.rand(5,5)*10).astype(int)\n",
    "print(X, end='\\n\\n')\n",
    "[print(i) for i in unique_rows(X)]\n",
    "print()\n",
    "[print(i) for i in unique_columns(X)]\n",
    "print('-'*50)\n",
    "\n",
    "X = (np.random.rand(8,2)*10).astype(int)\n",
    "print(X, end='\\n\\n')\n",
    "[print(i) for i in unique_rows(X)]\n",
    "print()\n",
    "[print(i) for i in unique_columns(X)]\n",
    "print('-'*50)"
   ]
  },
  {
   "cell_type": "markdown",
   "metadata": {
    "id": "roYAlo4Jz-lH"
   },
   "source": [
    "<h1>Задача 4. Напишите функцию, которая заполняет матрицу с размерами $(m, n)$ случайными числами, распределенными по нормальному закону. Затем считает мат. ожидание и дисперсию для каждого из столбцов и строк, а также строит для каждой строки и столбца гистограмму значений (использовать функцию hist из модуля matplotlib.plot)"
   ]
  },
  {
   "cell_type": "code",
   "execution_count": 8,
   "metadata": {
    "id": "nZK_71hMSQzv"
   },
   "outputs": [],
   "source": [
    "def f(n, m):\n",
    "    X = np.random.normal(size=(n, m))\n",
    "    print(f'The expected value of a row: {np.mean(X, axis=1)}')\n",
    "    print(f'Row variance: {np.mean(X, axis=1)}')\n",
    "    \n",
    "    print('Row hist:')\n",
    "    for row in X:\n",
    "        fig = plt.figure()\n",
    "        fig.set_size_inches(2,2)\n",
    "        plt.hist(row, bins=5)\n",
    "    plt.show()\n",
    "    \n",
    "    print(f'The expected value of a col: {np.mean(X, axis=0)}')\n",
    "    print(f'Col variance: {np.mean(X, axis=0)}')\n",
    "    \n",
    "    print('Col hist:')\n",
    "    for col_i in range(X.shape[1]):\n",
    "        fig = plt.figure()\n",
    "        fig.set_size_inches(2,2)\n",
    "        plt.hist(X[:, col_i], bins=5)\n",
    "    plt.show()"
   ]
  },
  {
   "cell_type": "code",
   "execution_count": 9,
   "metadata": {
    "scrolled": true
   },
   "outputs": [
    {
     "name": "stdout",
     "output_type": "stream",
     "text": [
      "The expected value of a row: [ 0.02163929 -0.00823939 -0.06340914  0.05986882 -0.66863178  0.47014228\n",
      "  0.04840958  0.06360589 -0.38814018 -0.20131722]\n",
      "Row variance: [ 0.02163929 -0.00823939 -0.06340914  0.05986882 -0.66863178  0.47014228\n",
      "  0.04840958  0.06360589 -0.38814018 -0.20131722]\n",
      "Row hist:\n"
     ]
    },
    {
     "data": {
      "image/png": "[encoded data removed]",
      "text/plain": [
       "<Figure size 200x200 with 1 Axes>"
      ]
     },
     "metadata": {},
     "output_type": "display_data"
    },
    {
     "data": {
      "image/png": "[encoded data removed]",
      "text/plain": [
       "<Figure size 200x200 with 1 Axes>"
      ]
     },
     "metadata": {},
     "output_type": "display_data"
    },
    {
     "data": {
      "image/png": "[encoded data removed]",
      "text/plain": [
       "<Figure size 200x200 with 1 Axes>"
      ]
     },
     "metadata": {},
     "output_type": "display_data"
    },
    {
     "data": {
      "image/png": "[encoded data removed]",
      "text/plain": [
       "<Figure size 200x200 with 1 Axes>"
      ]
     },
     "metadata": {},
     "output_type": "display_data"
    },
    {
     "data": {
      "image/png": "[encoded data removed]",
      "text/plain": [
       "<Figure size 200x200 with 1 Axes>"
      ]
     },
     "metadata": {},
     "output_type": "display_data"
    },
    {
     "data": {
      "image/png": "[encoded data removed]",
      "text/plain": [
       "<Figure size 200x200 with 1 Axes>"
      ]
     },
     "metadata": {},
     "output_type": "display_data"
    },
    {
     "data": {
      "image/png": "[encoded data removed]",
      "text/plain": [
       "<Figure size 200x200 with 1 Axes>"
      ]
     },
     "metadata": {},
     "output_type": "display_data"
    },
    {
     "data": {
      "image/png": "[encoded data removed]",
      "text/plain": [
       "<Figure size 200x200 with 1 Axes>"
      ]
     },
     "metadata": {},
     "output_type": "display_data"
    },
    {
     "data": {
      "image/png": "[encoded data removed]",
      "text/plain": [
       "<Figure size 200x200 with 1 Axes>"
      ]
     },
     "metadata": {},
     "output_type": "display_data"
    },
    {
     "data": {
      "image/png": "[encoded data removed]",
      "text/plain": [
       "<Figure size 200x200 with 1 Axes>"
      ]
     },
     "metadata": {},
     "output_type": "display_data"
    },
    {
     "name": "stdout",
     "output_type": "stream",
     "text": [
      "The expected value of a col: [ 0.06435665  0.21166348  0.24099804 -0.05193661 -0.49194693  0.30874507\n",
      "  0.15104185 -0.01481535 -0.18409204 -0.2385065  -0.21733586 -0.25232893\n",
      " -0.57560599  0.19541158 -0.14475622]\n",
      "Col variance: [ 0.06435665  0.21166348  0.24099804 -0.05193661 -0.49194693  0.30874507\n",
      "  0.15104185 -0.01481535 -0.18409204 -0.2385065  -0.21733586 -0.25232893\n",
      " -0.57560599  0.19541158 -0.14475622]\n",
      "Col hist:\n"
     ]
    },
    {
     "data": {
      "image/png": "[encoded data removed]",
      "text/plain": [
       "<Figure size 200x200 with 1 Axes>"
      ]
     },
     "metadata": {},
     "output_type": "display_data"
    },
    {
     "data": {
      "image/png": "[encoded data removed]",
      "text/plain": [
       "<Figure size 200x200 with 1 Axes>"
      ]
     },
     "metadata": {},
     "output_type": "display_data"
    },
    {
     "data": {
      "image/png": "[encoded data removed]",
      "text/plain": [
       "<Figure size 200x200 with 1 Axes>"
      ]
     },
     "metadata": {},
     "output_type": "display_data"
    },
    {
     "data": {
      "image/png": "[encoded data removed]",
      "text/plain": [
       "<Figure size 200x200 with 1 Axes>"
      ]
     },
     "metadata": {},
     "output_type": "display_data"
    },
    {
     "data": {
      "image/png": "[encoded data removed]",
      "text/plain": [
       "<Figure size 200x200 with 1 Axes>"
      ]
     },
     "metadata": {},
     "output_type": "display_data"
    },
    {
     "data": {
      "image/png": "[encoded data removed]",
      "text/plain": [
       "<Figure size 200x200 with 1 Axes>"
      ]
     },
     "metadata": {},
     "output_type": "display_data"
    },
    {
     "data": {
      "image/png": "[encoded data removed]",
      "text/plain": [
       "<Figure size 200x200 with 1 Axes>"
      ]
     },
     "metadata": {},
     "output_type": "display_data"
    },
    {
     "data": {
      "image/png": "[encoded data removed]",
      "text/plain": [
       "<Figure size 200x200 with 1 Axes>"
      ]
     },
     "metadata": {},
     "output_type": "display_data"
    },
    {
     "data": {
      "image/png": "[encoded data removed]",
      "text/plain": [
       "<Figure size 200x200 with 1 Axes>"
      ]
     },
     "metadata": {},
     "output_type": "display_data"
    },
    {
     "data": {
      "image/png": "[encoded data removed]",
      "text/plain": [
       "<Figure size 200x200 with 1 Axes>"
      ]
     },
     "metadata": {},
     "output_type": "display_data"
    },
    {
     "data": {
      "image/png": "[encoded data removed]",
      "text/plain": [
       "<Figure size 200x200 with 1 Axes>"
      ]
     },
     "metadata": {},
     "output_type": "display_data"
    },
    {
     "data": {
      "image/png": "[encoded data removed]",
      "text/plain": [
       "<Figure size 200x200 with 1 Axes>"
      ]
     },
     "metadata": {},
     "output_type": "display_data"
    },
    {
     "data": {
      "image/png": "[encoded data removed]",
      "text/plain": [
       "<Figure size 200x200 with 1 Axes>"
      ]
     },
     "metadata": {},
     "output_type": "display_data"
    },
    {
     "data": {
      "image/png": "[encoded data removed]",
      "text/plain": [
       "<Figure size 200x200 with 1 Axes>"
      ]
     },
     "metadata": {},
     "output_type": "display_data"
    },
    {
     "data": {
      "image/png": "[encoded data removed]",
      "text/plain": [
       "<Figure size 200x200 with 1 Axes>"
      ]
     },
     "metadata": {},
     "output_type": "display_data"
    }
   ],
   "source": [
    "f(10,15)"
   ]
  },
  {
   "cell_type": "markdown",
   "metadata": {
    "id": "BDyATNdM0dJ2"
   },
   "source": [
    "<h1>Задача 5. Напишите функцию, которая заполняет матрицу $(m, n)$ в шахматном порядке заданными числами $a$ и $b$. Напишите тесты для кода"
   ]
  },
  {
   "cell_type": "code",
   "execution_count": 10,
   "metadata": {
    "id": "RWNJYWQGecS6"
   },
   "outputs": [],
   "source": [
    "def chess(m, n, a, b):\n",
    "    X = np.indices((n, m)).sum(axis=0) % 2\n",
    "    X_ = X.copy()\n",
    "    X_[X == 0] = a\n",
    "    X_[X == 1] = b\n",
    "    return X_"
   ]
  },
  {
   "cell_type": "markdown",
   "metadata": {},
   "source": [
    "Тесты"
   ]
  },
  {
   "cell_type": "code",
   "execution_count": 11,
   "metadata": {},
   "outputs": [
    {
     "name": "stdout",
     "output_type": "stream",
     "text": [
      "[[0 1 0 1 0 1 0 1 0 1]\n",
      " [1 0 1 0 1 0 1 0 1 0]\n",
      " [0 1 0 1 0 1 0 1 0 1]\n",
      " [1 0 1 0 1 0 1 0 1 0]]\n",
      "--------------------------------------------------\n",
      "[[1 0 1 0 1 0 1 0 1 0]\n",
      " [0 1 0 1 0 1 0 1 0 1]\n",
      " [1 0 1 0 1 0 1 0 1 0]\n",
      " [0 1 0 1 0 1 0 1 0 1]]\n",
      "--------------------------------------------------\n",
      "[[5 5 5 5 5 5 5 5 5 5]\n",
      " [5 5 5 5 5 5 5 5 5 5]\n",
      " [5 5 5 5 5 5 5 5 5 5]\n",
      " [5 5 5 5 5 5 5 5 5 5]]\n",
      "--------------------------------------------------\n",
      "[[7 9 7 9 7 9 7 9 7 9]\n",
      " [9 7 9 7 9 7 9 7 9 7]\n",
      " [7 9 7 9 7 9 7 9 7 9]\n",
      " [9 7 9 7 9 7 9 7 9 7]]\n",
      "--------------------------------------------------\n"
     ]
    }
   ],
   "source": [
    "print(chess(10, 4, 0, 1), end= '\\n' + '-'*50 + '\\n')\n",
    "print(chess(10, 4, 1, 0), end= '\\n' + '-'*50 + '\\n')\n",
    "print(chess(10, 4, 5, 5), end= '\\n' + '-'*50 + '\\n')\n",
    "print(chess(10, 4, 7, 9), end= '\\n' + '-'*50 + '\\n')"
   ]
  },
  {
   "cell_type": "markdown",
   "metadata": {
    "id": "-ymXLtTN0vB6"
   },
   "source": [
    "<h1>Задача 6. Напишите функцию, которая отрисовывает прямоугольник с заданными размерами (a, b) на изображении размера (m, n), цвет фона задайте в схеме RGB, как и цвет прямоугольника. Цвета также должны быть параметрами функции. Напишите аналогичную функцию но для овала с полуосями a и b. Напишите тесты для кода.\n",
    "Примечание: уравнение эллипса (границы овала) можно записать как:\n",
    "<h1>$\\frac{(x-x_0)^2}{a^2}+\\frac{(y-y_0)^2}{b^2}=1$"
   ]
  },
  {
   "cell_type": "code",
   "execution_count": 12,
   "metadata": {
    "id": "sNfl1t_kfOF4"
   },
   "outputs": [],
   "source": [
    "from matplotlib.patches import Rectangle\n",
    "from matplotlib.colors import ListedColormap\n",
    "\n",
    "def draw_rectangle(a, b, m, n, rectangle_color, background_color):\n",
    "    fig = plt.figure()\n",
    "    fig.set_size_inches(5,5)\n",
    "    ax = plt.axes()\n",
    "    ax.set_facecolor(background_color)\n",
    "    \n",
    "    plt.xlim(0, m)\n",
    "    plt.ylim(0, n)\n",
    "    ax.add_patch(Rectangle((0, 0), a, b, facecolor = rectangle_color))\n",
    "\n",
    "    plt.show()\n",
    "\n",
    "def draw_ellipse(a, b, m, n, ellipse_color, background_color):\n",
    "    fig = plt.figure()\n",
    "    fig.set_size_inches(5,5)\n",
    "    ax = plt.axes()\n",
    "    ax.set_facecolor(background_color)\n",
    "\n",
    "    plt.xlim(-m/2, m/2)\n",
    "    plt.ylim(-n/2, n/2)\n",
    "\n",
    "    acc = 0.01\n",
    "    grid = np.meshgrid(np.arange(-m/2, m/2, acc), \n",
    "                       np.arange(-n/2, n/2, acc))\n",
    "    x = grid[0]\n",
    "    y = grid[1]\n",
    "\n",
    "    plt.contourf(x, y, (x ** 2 / a ** 2) + (y ** 2 / b ** 2) <= 1, \n",
    "                 cmap=ListedColormap([background_color, ellipse_color]))\n",
    "\n",
    "    plt.show()"
   ]
  },
  {
   "cell_type": "markdown",
   "metadata": {},
   "source": [
    "Тесты для прямоугольника"
   ]
  },
  {
   "cell_type": "code",
   "execution_count": 13,
   "metadata": {
    "scrolled": false
   },
   "outputs": [
    {
     "data": {
      "image/png": "[encoded data removed]",
      "text/plain": [
       "<Figure size 500x500 with 1 Axes>"
      ]
     },
     "metadata": {},
     "output_type": "display_data"
    },
    {
     "data": {
      "image/png": "[encoded data removed]",
      "text/plain": [
       "<Figure size 500x500 with 1 Axes>"
      ]
     },
     "metadata": {},
     "output_type": "display_data"
    },
    {
     "data": {
      "image/png": "[encoded data removed]",
      "text/plain": [
       "<Figure size 500x500 with 1 Axes>"
      ]
     },
     "metadata": {},
     "output_type": "display_data"
    },
    {
     "data": {
      "image/png": "[encoded data removed]",
      "text/plain": [
       "<Figure size 500x500 with 1 Axes>"
      ]
     },
     "metadata": {},
     "output_type": "display_data"
    }
   ],
   "source": [
    "draw_rectangle(3,3,10,5,'#8ecae6','#023047')\n",
    "draw_rectangle(5,8,10,15,'#dad7cd','#344e41')\n",
    "draw_rectangle(15,10,10,15,'#780000','#fdf0d5')\n",
    "draw_rectangle(15,10,20,15,'#780000','#fdf0d5')"
   ]
  },
  {
   "cell_type": "markdown",
   "metadata": {},
   "source": [
    "Тесты для эллипса"
   ]
  },
  {
   "cell_type": "code",
   "execution_count": 14,
   "metadata": {
    "scrolled": false
   },
   "outputs": [
    {
     "data": {
      "image/png": "[encoded data removed]",
      "text/plain": [
       "<Figure size 500x500 with 1 Axes>"
      ]
     },
     "metadata": {},
     "output_type": "display_data"
    },
    {
     "data": {
      "image/png": "[encoded data removed]",
      "text/plain": [
       "<Figure size 500x500 with 1 Axes>"
      ]
     },
     "metadata": {},
     "output_type": "display_data"
    },
    {
     "data": {
      "image/png": "[encoded data removed]",
      "text/plain": [
       "<Figure size 500x500 with 1 Axes>"
      ]
     },
     "metadata": {},
     "output_type": "display_data"
    },
    {
     "data": {
      "image/png": "[encoded data removed]",
      "text/plain": [
       "<Figure size 500x500 with 1 Axes>"
      ]
     },
     "metadata": {},
     "output_type": "display_data"
    }
   ],
   "source": [
    "draw_ellipse(4, 2, 10, 10, 'white', 'black')\n",
    "draw_ellipse(4, 5, 10, 10, '#231942', '#e0b1cb')\n",
    "draw_ellipse(10, 5, 15, 15, '#f72585', '#3a0ca3')\n",
    "draw_ellipse(3, 3, 15, 15, 'red', 'white')"
   ]
  },
  {
   "cell_type": "markdown",
   "metadata": {
    "id": "S82c38oz244H"
   },
   "source": [
    "<h1>Задача 7. Дан некий временной ряд. Для данного ряда нужно найти его: математическое ожидание, дисперсию, СКО, найти все локальные максимумы и минимумы (локальный максимум - это точка, которая больше своих соседних точек, а локальный минимум - это точка, которая меньше своих соседей), а также вычислить для данного ряда другой ряд, получаемый методом скользящего среднего с размером окна $p$.\n",
    "<h1>Примечание: метод скользящего среднего подразумевает нахождение среднего из подмножетсва ряда размером $p$"
   ]
  },
  {
   "cell_type": "code",
   "execution_count": 15,
   "metadata": {},
   "outputs": [],
   "source": [
    "def f(X, Y, p=3):\n",
    "    '''\n",
    "    Keys of return:\n",
    "    The expected value: Ey\n",
    "    Series variance: Dy\n",
    "    Series standard deviation: STDy\n",
    "    Points of local maximum: local_max\n",
    "    Points of local minimum: local_min\n",
    "    Moving average of X: mov_avg_x\n",
    "    Moving average of Y: mov_avg_y\n",
    "    '''\n",
    "    def get_ext(x, y):\n",
    "        maxim = []\n",
    "        minim = []\n",
    "        for i in range(0, len(y) - 2):\n",
    "            if y[i] < y[i + 1] > y[i + 2]:\n",
    "                maxim.append([x[i + 1], y[i + 1]])\n",
    "            elif y[i] > y[i + 1] < y[i + 2]:\n",
    "                minim.append([x[i + 1], y[i + 1]])\n",
    "        return maxim, minim\n",
    "    \n",
    "    def moving_avg(x, p=3):\n",
    "        cumsum = np.cumsum(np.insert(x, 0, 0)) \n",
    "        return (cumsum[p:] - cumsum[:-p]) / float(p)\n",
    "        \n",
    "    d_ans = dict()\n",
    "    d_ans['Ey'] = Y.mean()\n",
    "    d_ans['Dy'] = Y.var()\n",
    "    d_ans['STDy'] = d_ans['Dy'] ** 0.5\n",
    "\n",
    "    ext = get_ext(X, Y)\n",
    "    d_ans['local_max'] = ext[0]\n",
    "    d_ans['local_min'] = ext[1]\n",
    "    \n",
    "    d_ans['mov_avg_x'] = moving_avg(x, p)\n",
    "    d_ans['mov_avg_y'] = moving_avg(y, p)\n",
    "    \n",
    "    return d_ans    "
   ]
  },
  {
   "cell_type": "markdown",
   "metadata": {},
   "source": [
    "Пример"
   ]
  },
  {
   "cell_type": "code",
   "execution_count": 16,
   "metadata": {},
   "outputs": [],
   "source": [
    "import seaborn as sns"
   ]
  },
  {
   "cell_type": "code",
   "execution_count": 17,
   "metadata": {},
   "outputs": [
    {
     "data": {
      "image/png": "[encoded data removed]",
      "text/plain": [
       "<Figure size 640x480 with 1 Axes>"
      ]
     },
     "metadata": {},
     "output_type": "display_data"
    }
   ],
   "source": [
    "start, end = 0, 30\n",
    "\n",
    "x = np.linspace(start, end, 15)\n",
    "y = 5 * abs(np.sin(x / 2)) + (x ** 2 / 10) - (0.003 * x ** 3)\n",
    "\n",
    "sns.lineplot(x=x, y=y)\n",
    "\n",
    "plt.xlim(start, end)\n",
    "plt.grid()\n",
    "\n",
    "p = 3\n",
    "func_res = f(x, y, p)\n",
    "local_max = np.array(func_res['local_max'])\n",
    "local_min = np.array(func_res['local_min'])\n",
    "\n",
    "\n",
    "plt.scatter(local_max[:, 0], local_max[:, 1], c='black')\n",
    "plt.scatter(local_min[:, 0], local_min[:, 1], c='red')\n",
    "\n",
    "\n",
    "new_x = func_res['mov_avg_x']\n",
    "new_y = func_res['mov_avg_y']\n",
    "\n",
    "ax = sns.lineplot(x=new_x, y=new_y)\n",
    "ax.lines[1].set_linestyle(\"--\")"
   ]
  },
  {
   "cell_type": "markdown",
   "metadata": {
    "id": "jPkylmOX5O9n"
   },
   "source": [
    "<h1> Задача 8. Дан некоторый вектор с целочисленными метками классов, напишите функцию, которая выполняет one-hot-encoding для данного вектора\n",
    "<h1> One-hot-encoding - представление, в котором на месте метки некоторого класса стоит 1, в остальных позициях стоит 0. Например для вектора [0, 2, 3, 0] one-hot-encoding выглядит как: [[1, 0, 0, 0], [0, 0, 1, 0], [0, 0, 0, 1], [1, 0, 0, 0]]"
   ]
  },
  {
   "cell_type": "code",
   "execution_count": 18,
   "metadata": {},
   "outputs": [],
   "source": [
    "def one_hot(v):\n",
    "    return np.eye(v.max() + 1)[v.reshape(-1,1)]"
   ]
  },
  {
   "cell_type": "markdown",
   "metadata": {},
   "source": [
    "Пример"
   ]
  },
  {
   "cell_type": "code",
   "execution_count": 19,
   "metadata": {},
   "outputs": [
    {
     "data": {
      "text/plain": [
       "array([[[0., 1., 0., 0., 0., 0.]],\n",
       "\n",
       "       [[0., 0., 1., 0., 0., 0.]],\n",
       "\n",
       "       [[0., 0., 0., 1., 0., 0.]],\n",
       "\n",
       "       [[1., 0., 0., 0., 0., 0.]],\n",
       "\n",
       "       [[1., 0., 0., 0., 0., 0.]],\n",
       "\n",
       "       [[0., 0., 0., 1., 0., 0.]],\n",
       "\n",
       "       [[0., 0., 0., 0., 0., 1.]],\n",
       "\n",
       "       [[0., 0., 0., 0., 0., 1.]],\n",
       "\n",
       "       [[0., 1., 0., 0., 0., 0.]],\n",
       "\n",
       "       [[0., 1., 0., 0., 0., 0.]],\n",
       "\n",
       "       [[0., 0., 0., 1., 0., 0.]],\n",
       "\n",
       "       [[1., 0., 0., 0., 0., 0.]]])"
      ]
     },
     "execution_count": 19,
     "metadata": {},
     "output_type": "execute_result"
    }
   ],
   "source": [
    "v = np.array([1, 2, 3, 0, 0, 3, 5, 5, 1, 1, 3, 0])\n",
    "one_hot(v)"
   ]
  },
  {
   "cell_type": "code",
   "execution_count": null,
   "metadata": {},
   "outputs": [],
   "source": []
  }
 ],
 "metadata": {
  "colab": {
   "provenance": []
  },
  "kernelspec": {
   "display_name": "Python 3 (ipykernel)",
   "language": "python",
   "name": "python3"
  },
  "language_info": {
   "codemirror_mode": {
    "name": "ipython",
    "version": 3
   },
   "file_extension": ".py",
   "mimetype": "text/x-python",
   "name": "python",
   "nbconvert_exporter": "python",
   "pygments_lexer": "ipython3",
   "version": "3.10.0"
  }
 },
 "nbformat": 4,
 "nbformat_minor": 1
}
