{
 "cells": [
  {
   "cell_type": "markdown",
   "id": "3085ec43-34bb-4afb-9515-517e0489db3e",
   "metadata": {},
   "source": [
    "## Ансамбли и полносвязные нейронные сети\n",
    "В этом ноутбуке вам нужно обучить модели на датасете классификации из предыдущего ноутбука и сравнить результаты. Вам будет предоставлен baseline, на основе которого вы будете доделывать предсказывающие модели. Оценка лабы будет зависеть от ROC-AUC на тестовых данных по следующим критериям:\n",
    "\\\n",
    "AUC - на тестовых данных\n",
    "- $AUC \\leq 0.76$ - 0 баллов\n",
    "- $0.76 < AUC \\leq 0.77$ - 2 балла\n",
    "- $0.77 < AUC \\leq 0.78$ - 4 балла\n",
    "- $0.78 < AUC \\leq 0.79$ - 6 баллов\n",
    "- $0.79 < AUC \\leq 0.80$ - 8 баллов\n",
    "- $AUC > 0.80$ - 10 баллов\n"
   ]
  },
  {
   "cell_type": "code",
   "execution_count": 1,
   "id": "ec07e3a2-480a-4350-868e-02679ff2aada",
   "metadata": {
    "tags": []
   },
   "outputs": [],
   "source": [
    "from sklearn.ensemble import RandomForestClassifier, GradientBoostingClassifier\n",
    "from sklearn.neural_network import MLPClassifier\n",
    "\n",
    "from sklearn.metrics import roc_auc_score, precision_score, recall_score, roc_curve, accuracy_score\n",
    "\n",
    "from sklearn.model_selection import train_test_split\n",
    "\n",
    "import matplotlib.pyplot as plt\n",
    "import pandas as pd\n",
    "import numpy as np"
   ]
  },
  {
   "cell_type": "code",
   "execution_count": 2,
   "id": "563ad31b-5c83-4366-819a-34dad4edecdc",
   "metadata": {
    "tags": []
   },
   "outputs": [
    {
     "data": {
      "text/html": [
       "<div>\n",
       "<style scoped>\n",
       "    .dataframe tbody tr th:only-of-type {\n",
       "        vertical-align: middle;\n",
       "    }\n",
       "\n",
       "    .dataframe tbody tr th {\n",
       "        vertical-align: top;\n",
       "    }\n",
       "\n",
       "    .dataframe thead th {\n",
       "        text-align: right;\n",
       "    }\n",
       "</style>\n",
       "<table border=\"1\" class=\"dataframe\">\n",
       "  <thead>\n",
       "    <tr style=\"text-align: right;\">\n",
       "      <th></th>\n",
       "      <th>Creditability</th>\n",
       "      <th>Account_Balance</th>\n",
       "      <th>Duration_of_Credit_monthly</th>\n",
       "      <th>Payment_Status_of_Previous_Credit</th>\n",
       "      <th>Purpose</th>\n",
       "      <th>Credit_Amount</th>\n",
       "      <th>Value_Savings_Stocks</th>\n",
       "      <th>Length_of_current_employment</th>\n",
       "      <th>Instalment_per_cent</th>\n",
       "      <th>Sex_Marital_Status</th>\n",
       "      <th>...</th>\n",
       "      <th>Duration_in_Current_address</th>\n",
       "      <th>Most_valuable_available_asset</th>\n",
       "      <th>Age_years</th>\n",
       "      <th>Concurrent_Credits</th>\n",
       "      <th>Type_of_apartment</th>\n",
       "      <th>No_of_Credits_at_this_Bank</th>\n",
       "      <th>Occupation</th>\n",
       "      <th>No_of_dependents</th>\n",
       "      <th>Telephone</th>\n",
       "      <th>Foreign_Worker</th>\n",
       "    </tr>\n",
       "  </thead>\n",
       "  <tbody>\n",
       "    <tr>\n",
       "      <th>0</th>\n",
       "      <td>1</td>\n",
       "      <td>1</td>\n",
       "      <td>18</td>\n",
       "      <td>4</td>\n",
       "      <td>2</td>\n",
       "      <td>1049</td>\n",
       "      <td>1</td>\n",
       "      <td>2</td>\n",
       "      <td>4</td>\n",
       "      <td>2</td>\n",
       "      <td>...</td>\n",
       "      <td>4</td>\n",
       "      <td>2</td>\n",
       "      <td>21</td>\n",
       "      <td>3</td>\n",
       "      <td>1</td>\n",
       "      <td>1</td>\n",
       "      <td>3</td>\n",
       "      <td>1</td>\n",
       "      <td>1</td>\n",
       "      <td>1</td>\n",
       "    </tr>\n",
       "    <tr>\n",
       "      <th>1</th>\n",
       "      <td>1</td>\n",
       "      <td>1</td>\n",
       "      <td>9</td>\n",
       "      <td>4</td>\n",
       "      <td>0</td>\n",
       "      <td>2799</td>\n",
       "      <td>1</td>\n",
       "      <td>3</td>\n",
       "      <td>2</td>\n",
       "      <td>3</td>\n",
       "      <td>...</td>\n",
       "      <td>2</td>\n",
       "      <td>1</td>\n",
       "      <td>36</td>\n",
       "      <td>3</td>\n",
       "      <td>1</td>\n",
       "      <td>2</td>\n",
       "      <td>3</td>\n",
       "      <td>2</td>\n",
       "      <td>1</td>\n",
       "      <td>1</td>\n",
       "    </tr>\n",
       "    <tr>\n",
       "      <th>2</th>\n",
       "      <td>1</td>\n",
       "      <td>2</td>\n",
       "      <td>12</td>\n",
       "      <td>2</td>\n",
       "      <td>9</td>\n",
       "      <td>841</td>\n",
       "      <td>2</td>\n",
       "      <td>4</td>\n",
       "      <td>2</td>\n",
       "      <td>2</td>\n",
       "      <td>...</td>\n",
       "      <td>4</td>\n",
       "      <td>1</td>\n",
       "      <td>23</td>\n",
       "      <td>3</td>\n",
       "      <td>1</td>\n",
       "      <td>1</td>\n",
       "      <td>2</td>\n",
       "      <td>1</td>\n",
       "      <td>1</td>\n",
       "      <td>1</td>\n",
       "    </tr>\n",
       "    <tr>\n",
       "      <th>3</th>\n",
       "      <td>1</td>\n",
       "      <td>1</td>\n",
       "      <td>12</td>\n",
       "      <td>4</td>\n",
       "      <td>0</td>\n",
       "      <td>2122</td>\n",
       "      <td>1</td>\n",
       "      <td>3</td>\n",
       "      <td>3</td>\n",
       "      <td>3</td>\n",
       "      <td>...</td>\n",
       "      <td>2</td>\n",
       "      <td>1</td>\n",
       "      <td>39</td>\n",
       "      <td>3</td>\n",
       "      <td>1</td>\n",
       "      <td>2</td>\n",
       "      <td>2</td>\n",
       "      <td>2</td>\n",
       "      <td>1</td>\n",
       "      <td>2</td>\n",
       "    </tr>\n",
       "    <tr>\n",
       "      <th>4</th>\n",
       "      <td>1</td>\n",
       "      <td>1</td>\n",
       "      <td>12</td>\n",
       "      <td>4</td>\n",
       "      <td>0</td>\n",
       "      <td>2171</td>\n",
       "      <td>1</td>\n",
       "      <td>3</td>\n",
       "      <td>4</td>\n",
       "      <td>3</td>\n",
       "      <td>...</td>\n",
       "      <td>4</td>\n",
       "      <td>2</td>\n",
       "      <td>38</td>\n",
       "      <td>1</td>\n",
       "      <td>2</td>\n",
       "      <td>2</td>\n",
       "      <td>2</td>\n",
       "      <td>1</td>\n",
       "      <td>1</td>\n",
       "      <td>2</td>\n",
       "    </tr>\n",
       "  </tbody>\n",
       "</table>\n",
       "<p>5 rows × 21 columns</p>\n",
       "</div>"
      ],
      "text/plain": [
       "   Creditability  Account_Balance  Duration_of_Credit_monthly  \\\n",
       "0              1                1                          18   \n",
       "1              1                1                           9   \n",
       "2              1                2                          12   \n",
       "3              1                1                          12   \n",
       "4              1                1                          12   \n",
       "\n",
       "   Payment_Status_of_Previous_Credit  Purpose  Credit_Amount  \\\n",
       "0                                  4        2           1049   \n",
       "1                                  4        0           2799   \n",
       "2                                  2        9            841   \n",
       "3                                  4        0           2122   \n",
       "4                                  4        0           2171   \n",
       "\n",
       "   Value_Savings_Stocks  Length_of_current_employment  Instalment_per_cent  \\\n",
       "0                     1                             2                    4   \n",
       "1                     1                             3                    2   \n",
       "2                     2                             4                    2   \n",
       "3                     1                             3                    3   \n",
       "4                     1                             3                    4   \n",
       "\n",
       "   Sex_Marital_Status  ...  Duration_in_Current_address  \\\n",
       "0                   2  ...                            4   \n",
       "1                   3  ...                            2   \n",
       "2                   2  ...                            4   \n",
       "3                   3  ...                            2   \n",
       "4                   3  ...                            4   \n",
       "\n",
       "   Most_valuable_available_asset  Age_years  Concurrent_Credits  \\\n",
       "0                              2         21                   3   \n",
       "1                              1         36                   3   \n",
       "2                              1         23                   3   \n",
       "3                              1         39                   3   \n",
       "4                              2         38                   1   \n",
       "\n",
       "   Type_of_apartment  No_of_Credits_at_this_Bank  Occupation  \\\n",
       "0                  1                           1           3   \n",
       "1                  1                           2           3   \n",
       "2                  1                           1           2   \n",
       "3                  1                           2           2   \n",
       "4                  2                           2           2   \n",
       "\n",
       "   No_of_dependents  Telephone  Foreign_Worker  \n",
       "0                 1          1               1  \n",
       "1                 2          1               1  \n",
       "2                 1          1               1  \n",
       "3                 2          1               2  \n",
       "4                 1          1               2  \n",
       "\n",
       "[5 rows x 21 columns]"
      ]
     },
     "execution_count": 2,
     "metadata": {},
     "output_type": "execute_result"
    }
   ],
   "source": [
    "data = pd.read_csv('german.csv', sep=';')\n",
    "\n",
    "X = data.iloc[:, 1:].to_numpy()\n",
    "y = data.iloc[:, 0].to_numpy()\n",
    "\n",
    "X_train, X_test, y_train, y_test = train_test_split(X, y, test_size=0.2, random_state=42)\n",
    "\n",
    "data.head()"
   ]
  },
  {
   "cell_type": "code",
   "execution_count": 3,
   "id": "f93737ec-e5eb-4d72-8beb-5dba4d4c581f",
   "metadata": {
    "tags": []
   },
   "outputs": [
    {
     "data": {
      "image/png": "[encoded data removed]",
      "text/plain": [
       "<Figure size 640x480 with 1 Axes>"
      ]
     },
     "metadata": {},
     "output_type": "display_data"
    }
   ],
   "source": [
    "plt.hist(y_train, bins=2, edgecolor='k')\n",
    "plt.xticks([0, 1])\n",
    "plt.xlabel('Class (0: Non-Creditworthy, 1: Creditworthy)')\n",
    "plt.ylabel('Count')\n",
    "plt.title('Distribution of Classes in Training Data')\n",
    "plt.show()"
   ]
  },
  {
   "cell_type": "code",
   "execution_count": 4,
   "id": "c1cf8d00-92a3-4b62-bca4-d854b72574d1",
   "metadata": {
    "tags": []
   },
   "outputs": [
    {
     "name": "stdout",
     "output_type": "stream",
     "text": [
      "Random Forest метрики:\n",
      "ROC AUC: 0.68\n",
      "Accuracy: 0.76\n",
      "Precision: 0.78\n",
      "Recall: 0.90\n",
      "\n",
      "Gradient Boosting метрики:\n",
      "ROC AUC: 0.67\n",
      "Accuracy: 0.73\n",
      "Precision: 0.79\n",
      "Recall: 0.84\n"
     ]
    }
   ],
   "source": [
    "# Обучение Random Forest\n",
    "rf_model = RandomForestClassifier(n_estimators=100, random_state=42)\n",
    "rf_model.fit(X_train, y_train)\n",
    "\n",
    "# Прогноз на тестовых данных\n",
    "rf_pred = rf_model.predict(X_test)\n",
    "\n",
    "# Расчет метрик для Random Forest\n",
    "rf_roc_auc = roc_auc_score(y_test, rf_pred)\n",
    "rf_accuracy = accuracy_score(y_test, rf_pred)\n",
    "rf_precision = precision_score(y_test, rf_pred)\n",
    "rf_recall = recall_score(y_test, rf_pred)\n",
    "\n",
    "print(\"Random Forest метрики:\")\n",
    "print(f\"ROC AUC: {rf_roc_auc:.2f}\")\n",
    "print(f\"Accuracy: {rf_accuracy:.2f}\")\n",
    "print(f\"Precision: {rf_precision:.2f}\")\n",
    "print(f\"Recall: {rf_recall:.2f}\")\n",
    "\n",
    "# Обучение Gradient Boosting\n",
    "gb_model = GradientBoostingClassifier(n_estimators=100, random_state=42)\n",
    "gb_model.fit(X_train, y_train)\n",
    "\n",
    "# Прогноз на тестовых данных\n",
    "gb_pred = gb_model.predict(X_test)\n",
    "\n",
    "# Расчет метрик для Gradient Boosting\n",
    "gb_roc_auc = roc_auc_score(y_test, gb_pred)\n",
    "gb_accuracy = accuracy_score(y_test, gb_pred)\n",
    "gb_precision = precision_score(y_test, gb_pred)\n",
    "gb_recall = recall_score(y_test, gb_pred)\n",
    "\n",
    "print(\"\\nGradient Boosting метрики:\")\n",
    "print(f\"ROC AUC: {gb_roc_auc:.2f}\")\n",
    "print(f\"Accuracy: {gb_accuracy:.2f}\")\n",
    "print(f\"Precision: {gb_precision:.2f}\")\n",
    "print(f\"Recall: {gb_recall:.2f}\")"
   ]
  },
  {
   "cell_type": "code",
   "execution_count": 5,
   "id": "ae1e040c-ddd0-4952-9dcb-58c1226da40a",
   "metadata": {
    "tags": []
   },
   "outputs": [
    {
     "name": "stdout",
     "output_type": "stream",
     "text": [
      "\n",
      "MLP (Neural Network) метрики:\n",
      "ROC AUC: 0.56\n",
      "Accuracy: 0.65\n",
      "Precision: 0.72\n",
      "Recall: 0.79\n"
     ]
    }
   ],
   "source": [
    "# Обучение MLP (Multi-Layer Perceptron) нейронной сети\n",
    "mlp_model = MLPClassifier(hidden_layer_sizes=(30,), max_iter=500, random_state=42)\n",
    "mlp_model.fit(X_train, y_train)\n",
    "\n",
    "# Прогноз на тестовых данных\n",
    "mlp_pred = mlp_model.predict(X_test)\n",
    "\n",
    "# Расчет метрик для MLP нейронной сети\n",
    "mlp_roc_auc = roc_auc_score(y_test, mlp_pred)\n",
    "mlp_accuracy = accuracy_score(y_test, mlp_pred)\n",
    "mlp_precision = precision_score(y_test, mlp_pred)\n",
    "mlp_recall = recall_score(y_test, mlp_pred)\n",
    "\n",
    "print(\"\\nMLP (Neural Network) метрики:\")\n",
    "print(f\"ROC AUC: {mlp_roc_auc:.2f}\")\n",
    "print(f\"Accuracy: {mlp_accuracy:.2f}\")\n",
    "print(f\"Precision: {mlp_precision:.2f}\")\n",
    "print(f\"Recall: {mlp_recall:.2f}\")"
   ]
  },
  {
   "cell_type": "markdown",
   "id": "d2d6eb00-77fd-40dc-a3c5-35c1fe0200c0",
   "metadata": {},
   "source": [
    "## Экспериментируйте\n",
    "Для получения лучшего качества придется поэкспериментировать. Подсказка: попробуйте оптимизировать гиперпараметры модели"
   ]
  },
  {
   "cell_type": "code",
   "execution_count": 67,
   "id": "1173f265",
   "metadata": {},
   "outputs": [],
   "source": [
    "from sklearn.model_selection import GridSearchCV\n",
    "from sklearn.preprocessing import StandardScaler\n",
    "from sklearn.pipeline import Pipeline"
   ]
  },
  {
   "cell_type": "markdown",
   "id": "4263b471",
   "metadata": {},
   "source": [
    "### Random Forest"
   ]
  },
  {
   "cell_type": "code",
   "execution_count": 12,
   "id": "d825dc56",
   "metadata": {},
   "outputs": [],
   "source": [
    "model_forest = RandomForestClassifier()"
   ]
  },
  {
   "cell_type": "code",
   "execution_count": 13,
   "id": "24ade5a4",
   "metadata": {
    "scrolled": false
   },
   "outputs": [
    {
     "data": {
      "text/plain": [
       "{'bootstrap': True,\n",
       " 'ccp_alpha': 0.0,\n",
       " 'class_weight': None,\n",
       " 'criterion': 'gini',\n",
       " 'max_depth': None,\n",
       " 'max_features': 'sqrt',\n",
       " 'max_leaf_nodes': None,\n",
       " 'max_samples': None,\n",
       " 'min_impurity_decrease': 0.0,\n",
       " 'min_samples_leaf': 1,\n",
       " 'min_samples_split': 2,\n",
       " 'min_weight_fraction_leaf': 0.0,\n",
       " 'n_estimators': 100,\n",
       " 'n_jobs': None,\n",
       " 'oob_score': False,\n",
       " 'random_state': None,\n",
       " 'verbose': 0,\n",
       " 'warm_start': False}"
      ]
     },
     "execution_count": 13,
     "metadata": {},
     "output_type": "execute_result"
    }
   ],
   "source": [
    "model_forest.get_params()"
   ]
  },
  {
   "cell_type": "code",
   "execution_count": 268,
   "id": "e3b7253f",
   "metadata": {},
   "outputs": [],
   "source": [
    "params_forest = {\n",
    "    'max_depth': [10, 50, 100, None],\n",
    "    'n_estimators': [100, 250, 500],\n",
    "}"
   ]
  },
  {
   "cell_type": "code",
   "execution_count": 269,
   "id": "25df0b0e",
   "metadata": {},
   "outputs": [],
   "source": [
    "grid = GridSearchCV(model_forest, param_grid=params_forest, cv=2, verbose=10)"
   ]
  },
  {
   "cell_type": "code",
   "execution_count": 270,
   "id": "fc6fa226",
   "metadata": {
    "scrolled": true
   },
   "outputs": [
    {
     "name": "stdout",
     "output_type": "stream",
     "text": [
      "Fitting 2 folds for each of 12 candidates, totalling 24 fits\n",
      "[CV 1/2; 1/12] START max_depth=10, n_estimators=100.............................\n",
      "[CV 1/2; 1/12] END max_depth=10, n_estimators=100;, score=0.748 total time=   0.0s\n",
      "[CV 2/2; 1/12] START max_depth=10, n_estimators=100.............................\n",
      "[CV 2/2; 1/12] END max_depth=10, n_estimators=100;, score=0.743 total time=   0.0s\n",
      "[CV 1/2; 2/12] START max_depth=10, n_estimators=250.............................\n",
      "[CV 1/2; 2/12] END max_depth=10, n_estimators=250;, score=0.765 total time=   0.2s\n",
      "[CV 2/2; 2/12] START max_depth=10, n_estimators=250.............................\n",
      "[CV 2/2; 2/12] END max_depth=10, n_estimators=250;, score=0.757 total time=   0.2s\n",
      "[CV 1/2; 3/12] START max_depth=10, n_estimators=500.............................\n",
      "[CV 1/2; 3/12] END max_depth=10, n_estimators=500;, score=0.772 total time=   0.4s\n",
      "[CV 2/2; 3/12] START max_depth=10, n_estimators=500.............................\n",
      "[CV 2/2; 3/12] END max_depth=10, n_estimators=500;, score=0.762 total time=   0.4s\n",
      "[CV 1/2; 4/12] START max_depth=50, n_estimators=100.............................\n",
      "[CV 1/2; 4/12] END max_depth=50, n_estimators=100;, score=0.760 total time=   0.0s\n",
      "[CV 2/2; 4/12] START max_depth=50, n_estimators=100.............................\n",
      "[CV 2/2; 4/12] END max_depth=50, n_estimators=100;, score=0.770 total time=   0.0s\n",
      "[CV 1/2; 5/12] START max_depth=50, n_estimators=250.............................\n",
      "[CV 1/2; 5/12] END max_depth=50, n_estimators=250;, score=0.762 total time=   0.2s\n",
      "[CV 2/2; 5/12] START max_depth=50, n_estimators=250.............................\n",
      "[CV 2/2; 5/12] END max_depth=50, n_estimators=250;, score=0.762 total time=   0.2s\n",
      "[CV 1/2; 6/12] START max_depth=50, n_estimators=500.............................\n",
      "[CV 1/2; 6/12] END max_depth=50, n_estimators=500;, score=0.770 total time=   0.5s\n",
      "[CV 2/2; 6/12] START max_depth=50, n_estimators=500.............................\n",
      "[CV 2/2; 6/12] END max_depth=50, n_estimators=500;, score=0.765 total time=   0.5s\n",
      "[CV 1/2; 7/12] START max_depth=100, n_estimators=100............................\n",
      "[CV 1/2; 7/12] END max_depth=100, n_estimators=100;, score=0.760 total time=   0.0s\n",
      "[CV 2/2; 7/12] START max_depth=100, n_estimators=100............................\n",
      "[CV 2/2; 7/12] END max_depth=100, n_estimators=100;, score=0.760 total time=   0.0s\n",
      "[CV 1/2; 8/12] START max_depth=100, n_estimators=250............................\n",
      "[CV 1/2; 8/12] END max_depth=100, n_estimators=250;, score=0.767 total time=   0.2s\n",
      "[CV 2/2; 8/12] START max_depth=100, n_estimators=250............................\n",
      "[CV 2/2; 8/12] END max_depth=100, n_estimators=250;, score=0.757 total time=   0.2s\n",
      "[CV 1/2; 9/12] START max_depth=100, n_estimators=500............................\n",
      "[CV 1/2; 9/12] END max_depth=100, n_estimators=500;, score=0.762 total time=   0.5s\n",
      "[CV 2/2; 9/12] START max_depth=100, n_estimators=500............................\n",
      "[CV 2/2; 9/12] END max_depth=100, n_estimators=500;, score=0.760 total time=   0.5s\n",
      "[CV 1/2; 10/12] START max_depth=None, n_estimators=100..........................\n",
      "[CV 1/2; 10/12] END max_depth=None, n_estimators=100;, score=0.767 total time=   0.0s\n",
      "[CV 2/2; 10/12] START max_depth=None, n_estimators=100..........................\n",
      "[CV 2/2; 10/12] END max_depth=None, n_estimators=100;, score=0.750 total time=   0.0s\n",
      "[CV 1/2; 11/12] START max_depth=None, n_estimators=250..........................\n",
      "[CV 1/2; 11/12] END max_depth=None, n_estimators=250;, score=0.757 total time=   0.2s\n",
      "[CV 2/2; 11/12] START max_depth=None, n_estimators=250..........................\n",
      "[CV 2/2; 11/12] END max_depth=None, n_estimators=250;, score=0.762 total time=   0.2s\n",
      "[CV 1/2; 12/12] START max_depth=None, n_estimators=500..........................\n",
      "[CV 1/2; 12/12] END max_depth=None, n_estimators=500;, score=0.760 total time=   0.5s\n",
      "[CV 2/2; 12/12] START max_depth=None, n_estimators=500..........................\n",
      "[CV 2/2; 12/12] END max_depth=None, n_estimators=500;, score=0.757 total time=   0.5s\n"
     ]
    },
    {
     "data": {
      "text/html": [
       "<style>#sk-container-id-48 {color: black;background-color: white;}#sk-container-id-48 pre{padding: 0;}#sk-container-id-48 div.sk-toggleable {background-color: white;}#sk-container-id-48 label.sk-toggleable__label {cursor: pointer;display: block;width: 100%;margin-bottom: 0;padding: 0.3em;box-sizing: border-box;text-align: center;}#sk-container-id-48 label.sk-toggleable__label-arrow:before {content: \"▸\";float: left;margin-right: 0.25em;color: #696969;}#sk-container-id-48 label.sk-toggleable__label-arrow:hover:before {color: black;}#sk-container-id-48 div.sk-estimator:hover label.sk-toggleable__label-arrow:before {color: black;}#sk-container-id-48 div.sk-toggleable__content {max-height: 0;max-width: 0;overflow: hidden;text-align: left;background-color: #f0f8ff;}#sk-container-id-48 div.sk-toggleable__content pre {margin: 0.2em;color: black;border-radius: 0.25em;background-color: #f0f8ff;}#sk-container-id-48 input.sk-toggleable__control:checked~div.sk-toggleable__content {max-height: 200px;max-width: 100%;overflow: auto;}#sk-container-id-48 input.sk-toggleable__control:checked~label.sk-toggleable__label-arrow:before {content: \"▾\";}#sk-container-id-48 div.sk-estimator input.sk-toggleable__control:checked~label.sk-toggleable__label {background-color: #d4ebff;}#sk-container-id-48 div.sk-label input.sk-toggleable__control:checked~label.sk-toggleable__label {background-color: #d4ebff;}#sk-container-id-48 input.sk-hidden--visually {border: 0;clip: rect(1px 1px 1px 1px);clip: rect(1px, 1px, 1px, 1px);height: 1px;margin: -1px;overflow: hidden;padding: 0;position: absolute;width: 1px;}#sk-container-id-48 div.sk-estimator {font-family: monospace;background-color: #f0f8ff;border: 1px dotted black;border-radius: 0.25em;box-sizing: border-box;margin-bottom: 0.5em;}#sk-container-id-48 div.sk-estimator:hover {background-color: #d4ebff;}#sk-container-id-48 div.sk-parallel-item::after {content: \"\";width: 100%;border-bottom: 1px solid gray;flex-grow: 1;}#sk-container-id-48 div.sk-label:hover label.sk-toggleable__label {background-color: #d4ebff;}#sk-container-id-48 div.sk-serial::before {content: \"\";position: absolute;border-left: 1px solid gray;box-sizing: border-box;top: 0;bottom: 0;left: 50%;z-index: 0;}#sk-container-id-48 div.sk-serial {display: flex;flex-direction: column;align-items: center;background-color: white;padding-right: 0.2em;padding-left: 0.2em;position: relative;}#sk-container-id-48 div.sk-item {position: relative;z-index: 1;}#sk-container-id-48 div.sk-parallel {display: flex;align-items: stretch;justify-content: center;background-color: white;position: relative;}#sk-container-id-48 div.sk-item::before, #sk-container-id-48 div.sk-parallel-item::before {content: \"\";position: absolute;border-left: 1px solid gray;box-sizing: border-box;top: 0;bottom: 0;left: 50%;z-index: -1;}#sk-container-id-48 div.sk-parallel-item {display: flex;flex-direction: column;z-index: 1;position: relative;background-color: white;}#sk-container-id-48 div.sk-parallel-item:first-child::after {align-self: flex-end;width: 50%;}#sk-container-id-48 div.sk-parallel-item:last-child::after {align-self: flex-start;width: 50%;}#sk-container-id-48 div.sk-parallel-item:only-child::after {width: 0;}#sk-container-id-48 div.sk-dashed-wrapped {border: 1px dashed gray;margin: 0 0.4em 0.5em 0.4em;box-sizing: border-box;padding-bottom: 0.4em;background-color: white;}#sk-container-id-48 div.sk-label label {font-family: monospace;font-weight: bold;display: inline-block;line-height: 1.2em;}#sk-container-id-48 div.sk-label-container {text-align: center;}#sk-container-id-48 div.sk-container {/* jupyter's `normalize.less` sets `[hidden] { display: none; }` but bootstrap.min.css set `[hidden] { display: none !important; }` so we also need the `!important` here to be able to override the default hidden behavior on the sphinx rendered scikit-learn.org. See: https://github.com/scikit-learn/scikit-learn/issues/21755 */display: inline-block !important;position: relative;}#sk-container-id-48 div.sk-text-repr-fallback {display: none;}</style><div id=\"sk-container-id-48\" class=\"sk-top-container\"><div class=\"sk-text-repr-fallback\"><pre>GridSearchCV(cv=2, estimator=RandomForestClassifier(),\n",
       "             param_grid={&#x27;max_depth&#x27;: [10, 50, 100, None],\n",
       "                         &#x27;n_estimators&#x27;: [100, 250, 500]},\n",
       "             verbose=10)</pre><b>In a Jupyter environment, please rerun this cell to show the HTML representation or trust the notebook. <br />On GitHub, the HTML representation is unable to render, please try loading this page with nbviewer.org.</b></div><div class=\"sk-container\" hidden><div class=\"sk-item sk-dashed-wrapped\"><div class=\"sk-label-container\"><div class=\"sk-label sk-toggleable\"><input class=\"sk-toggleable__control sk-hidden--visually\" id=\"sk-estimator-id-168\" type=\"checkbox\" ><label for=\"sk-estimator-id-168\" class=\"sk-toggleable__label sk-toggleable__label-arrow\">GridSearchCV</label><div class=\"sk-toggleable__content\"><pre>GridSearchCV(cv=2, estimator=RandomForestClassifier(),\n",
       "             param_grid={&#x27;max_depth&#x27;: [10, 50, 100, None],\n",
       "                         &#x27;n_estimators&#x27;: [100, 250, 500]},\n",
       "             verbose=10)</pre></div></div></div><div class=\"sk-parallel\"><div class=\"sk-parallel-item\"><div class=\"sk-item\"><div class=\"sk-label-container\"><div class=\"sk-label sk-toggleable\"><input class=\"sk-toggleable__control sk-hidden--visually\" id=\"sk-estimator-id-169\" type=\"checkbox\" ><label for=\"sk-estimator-id-169\" class=\"sk-toggleable__label sk-toggleable__label-arrow\">estimator: RandomForestClassifier</label><div class=\"sk-toggleable__content\"><pre>RandomForestClassifier()</pre></div></div></div><div class=\"sk-serial\"><div class=\"sk-item\"><div class=\"sk-estimator sk-toggleable\"><input class=\"sk-toggleable__control sk-hidden--visually\" id=\"sk-estimator-id-170\" type=\"checkbox\" ><label for=\"sk-estimator-id-170\" class=\"sk-toggleable__label sk-toggleable__label-arrow\">RandomForestClassifier</label><div class=\"sk-toggleable__content\"><pre>RandomForestClassifier()</pre></div></div></div></div></div></div></div></div></div></div>"
      ],
      "text/plain": [
       "GridSearchCV(cv=2, estimator=RandomForestClassifier(),\n",
       "             param_grid={'max_depth': [10, 50, 100, None],\n",
       "                         'n_estimators': [100, 250, 500]},\n",
       "             verbose=10)"
      ]
     },
     "execution_count": 270,
     "metadata": {},
     "output_type": "execute_result"
    }
   ],
   "source": [
    "grid.fit(X_train, y_train)"
   ]
  },
  {
   "cell_type": "code",
   "execution_count": 273,
   "id": "47488a68",
   "metadata": {},
   "outputs": [
    {
     "data": {
      "text/plain": [
       "0.778"
      ]
     },
     "execution_count": 273,
     "metadata": {},
     "output_type": "execute_result"
    }
   ],
   "source": [
    "roc_auc_score(y_test, grid.predict_proba(X_test)[:, 1]).round(3)"
   ]
  },
  {
   "cell_type": "code",
   "execution_count": 258,
   "id": "4728a29b",
   "metadata": {},
   "outputs": [
    {
     "data": {
      "text/plain": [
       "{'class_weight': 'balanced',\n",
       " 'criterion': 'gini',\n",
       " 'max_depth': 10,\n",
       " 'n_estimators': 100}"
      ]
     },
     "execution_count": 258,
     "metadata": {},
     "output_type": "execute_result"
    }
   ],
   "source": [
    "grid.best_params_"
   ]
  },
  {
   "cell_type": "markdown",
   "id": "2134a94e",
   "metadata": {},
   "source": [
    "### Gradient Boosting"
   ]
  },
  {
   "cell_type": "code",
   "execution_count": 87,
   "id": "6a0c21ec",
   "metadata": {},
   "outputs": [],
   "source": [
    "pipe_grad = Pipeline([\n",
    "    ('scaler', StandardScaler()),\n",
    "    ('model', GradientBoostingClassifier())\n",
    "])"
   ]
  },
  {
   "cell_type": "code",
   "execution_count": 88,
   "id": "42a311f2",
   "metadata": {},
   "outputs": [
    {
     "data": {
      "text/plain": [
       "{'memory': None,\n",
       " 'steps': [('scaler', StandardScaler()),\n",
       "  ('model', GradientBoostingClassifier())],\n",
       " 'verbose': False,\n",
       " 'scaler': StandardScaler(),\n",
       " 'model': GradientBoostingClassifier(),\n",
       " 'scaler__copy': True,\n",
       " 'scaler__with_mean': True,\n",
       " 'scaler__with_std': True,\n",
       " 'model__ccp_alpha': 0.0,\n",
       " 'model__criterion': 'friedman_mse',\n",
       " 'model__init': None,\n",
       " 'model__learning_rate': 0.1,\n",
       " 'model__loss': 'log_loss',\n",
       " 'model__max_depth': 3,\n",
       " 'model__max_features': None,\n",
       " 'model__max_leaf_nodes': None,\n",
       " 'model__min_impurity_decrease': 0.0,\n",
       " 'model__min_samples_leaf': 1,\n",
       " 'model__min_samples_split': 2,\n",
       " 'model__min_weight_fraction_leaf': 0.0,\n",
       " 'model__n_estimators': 100,\n",
       " 'model__n_iter_no_change': None,\n",
       " 'model__random_state': None,\n",
       " 'model__subsample': 1.0,\n",
       " 'model__tol': 0.0001,\n",
       " 'model__validation_fraction': 0.1,\n",
       " 'model__verbose': 0,\n",
       " 'model__warm_start': False}"
      ]
     },
     "execution_count": 88,
     "metadata": {},
     "output_type": "execute_result"
    }
   ],
   "source": [
    "pipe_grad.get_params()"
   ]
  },
  {
   "cell_type": "code",
   "execution_count": 92,
   "id": "cb37abdd",
   "metadata": {},
   "outputs": [],
   "source": [
    "params_grad = {\n",
    "    'model__learning_rate': [1e-2, 1e-1],\n",
    "    'model__n_estimators': [50, 100, 300, 500],\n",
    "    'model__max_depth': [1, 3, 5, 10, 50]\n",
    "}"
   ]
  },
  {
   "cell_type": "code",
   "execution_count": 93,
   "id": "6ad573c5",
   "metadata": {},
   "outputs": [],
   "source": [
    "grid_grad = GridSearchCV(pipe_grad, params_grad, verbose=10, cv=2)"
   ]
  },
  {
   "cell_type": "code",
   "execution_count": 94,
   "id": "bfcd9628",
   "metadata": {},
   "outputs": [
    {
     "name": "stdout",
     "output_type": "stream",
     "text": [
      "Fitting 2 folds for each of 60 candidates, totalling 120 fits\n",
      "[CV 1/2; 1/60] START model__learning_rate=0.001, model__max_depth=1, model__n_estimators=50\n",
      "[CV 1/2; 1/60] END model__learning_rate=0.001, model__max_depth=1, model__n_estimators=50;, score=0.703 total time=   0.0s\n",
      "[CV 2/2; 1/60] START model__learning_rate=0.001, model__max_depth=1, model__n_estimators=50\n",
      "[CV 2/2; 1/60] END model__learning_rate=0.001, model__max_depth=1, model__n_estimators=50;, score=0.703 total time=   0.0s\n",
      "[CV 1/2; 2/60] START model__learning_rate=0.001, model__max_depth=1, model__n_estimators=100\n",
      "[CV 1/2; 2/60] END model__learning_rate=0.001, model__max_depth=1, model__n_estimators=100;, score=0.703 total time=   0.0s\n",
      "[CV 2/2; 2/60] START model__learning_rate=0.001, model__max_depth=1, model__n_estimators=100\n",
      "[CV 2/2; 2/60] END model__learning_rate=0.001, model__max_depth=1, model__n_estimators=100;, score=0.703 total time=   0.0s\n",
      "[CV 1/2; 3/60] START model__learning_rate=0.001, model__max_depth=1, model__n_estimators=300\n",
      "[CV 1/2; 3/60] END model__learning_rate=0.001, model__max_depth=1, model__n_estimators=300;, score=0.703 total time=   0.0s\n",
      "[CV 2/2; 3/60] START model__learning_rate=0.001, model__max_depth=1, model__n_estimators=300\n",
      "[CV 2/2; 3/60] END model__learning_rate=0.001, model__max_depth=1, model__n_estimators=300;, score=0.703 total time=   0.0s\n",
      "[CV 1/2; 4/60] START model__learning_rate=0.001, model__max_depth=1, model__n_estimators=500\n",
      "[CV 1/2; 4/60] END model__learning_rate=0.001, model__max_depth=1, model__n_estimators=500;, score=0.703 total time=   0.1s\n",
      "[CV 2/2; 4/60] START model__learning_rate=0.001, model__max_depth=1, model__n_estimators=500\n",
      "[CV 2/2; 4/60] END model__learning_rate=0.001, model__max_depth=1, model__n_estimators=500;, score=0.703 total time=   0.1s\n",
      "[CV 1/2; 5/60] START model__learning_rate=0.001, model__max_depth=3, model__n_estimators=50\n",
      "[CV 1/2; 5/60] END model__learning_rate=0.001, model__max_depth=3, model__n_estimators=50;, score=0.703 total time=   0.0s\n",
      "[CV 2/2; 5/60] START model__learning_rate=0.001, model__max_depth=3, model__n_estimators=50\n",
      "[CV 2/2; 5/60] END model__learning_rate=0.001, model__max_depth=3, model__n_estimators=50;, score=0.703 total time=   0.0s\n",
      "[CV 1/2; 6/60] START model__learning_rate=0.001, model__max_depth=3, model__n_estimators=100\n",
      "[CV 1/2; 6/60] END model__learning_rate=0.001, model__max_depth=3, model__n_estimators=100;, score=0.703 total time=   0.0s\n",
      "[CV 2/2; 6/60] START model__learning_rate=0.001, model__max_depth=3, model__n_estimators=100\n",
      "[CV 2/2; 6/60] END model__learning_rate=0.001, model__max_depth=3, model__n_estimators=100;, score=0.703 total time=   0.0s\n",
      "[CV 1/2; 7/60] START model__learning_rate=0.001, model__max_depth=3, model__n_estimators=300\n",
      "[CV 1/2; 7/60] END model__learning_rate=0.001, model__max_depth=3, model__n_estimators=300;, score=0.703 total time=   0.1s\n",
      "[CV 2/2; 7/60] START model__learning_rate=0.001, model__max_depth=3, model__n_estimators=300\n",
      "[CV 2/2; 7/60] END model__learning_rate=0.001, model__max_depth=3, model__n_estimators=300;, score=0.703 total time=   0.1s\n",
      "[CV 1/2; 8/60] START model__learning_rate=0.001, model__max_depth=3, model__n_estimators=500\n",
      "[CV 1/2; 8/60] END model__learning_rate=0.001, model__max_depth=3, model__n_estimators=500;, score=0.705 total time=   0.3s\n",
      "[CV 2/2; 8/60] START model__learning_rate=0.001, model__max_depth=3, model__n_estimators=500\n",
      "[CV 2/2; 8/60] END model__learning_rate=0.001, model__max_depth=3, model__n_estimators=500;, score=0.708 total time=   0.3s\n",
      "[CV 1/2; 9/60] START model__learning_rate=0.001, model__max_depth=5, model__n_estimators=50\n",
      "[CV 1/2; 9/60] END model__learning_rate=0.001, model__max_depth=5, model__n_estimators=50;, score=0.703 total time=   0.0s\n",
      "[CV 2/2; 9/60] START model__learning_rate=0.001, model__max_depth=5, model__n_estimators=50\n",
      "[CV 2/2; 9/60] END model__learning_rate=0.001, model__max_depth=5, model__n_estimators=50;, score=0.703 total time=   0.0s\n",
      "[CV 1/2; 10/60] START model__learning_rate=0.001, model__max_depth=5, model__n_estimators=100\n",
      "[CV 1/2; 10/60] END model__learning_rate=0.001, model__max_depth=5, model__n_estimators=100;, score=0.703 total time=   0.0s\n",
      "[CV 2/2; 10/60] START model__learning_rate=0.001, model__max_depth=5, model__n_estimators=100\n",
      "[CV 2/2; 10/60] END model__learning_rate=0.001, model__max_depth=5, model__n_estimators=100;, score=0.703 total time=   0.0s\n",
      "[CV 1/2; 11/60] START model__learning_rate=0.001, model__max_depth=5, model__n_estimators=300\n",
      "[CV 1/2; 11/60] END model__learning_rate=0.001, model__max_depth=5, model__n_estimators=300;, score=0.703 total time=   0.3s\n",
      "[CV 2/2; 11/60] START model__learning_rate=0.001, model__max_depth=5, model__n_estimators=300\n",
      "[CV 2/2; 11/60] END model__learning_rate=0.001, model__max_depth=5, model__n_estimators=300;, score=0.703 total time=   0.3s\n",
      "[CV 1/2; 12/60] START model__learning_rate=0.001, model__max_depth=5, model__n_estimators=500\n",
      "[CV 1/2; 12/60] END model__learning_rate=0.001, model__max_depth=5, model__n_estimators=500;, score=0.723 total time=   0.5s\n",
      "[CV 2/2; 12/60] START model__learning_rate=0.001, model__max_depth=5, model__n_estimators=500\n",
      "[CV 2/2; 12/60] END model__learning_rate=0.001, model__max_depth=5, model__n_estimators=500;, score=0.730 total time=   0.6s\n",
      "[CV 1/2; 13/60] START model__learning_rate=0.001, model__max_depth=10, model__n_estimators=50\n",
      "[CV 1/2; 13/60] END model__learning_rate=0.001, model__max_depth=10, model__n_estimators=50;, score=0.703 total time=   0.0s\n",
      "[CV 2/2; 13/60] START model__learning_rate=0.001, model__max_depth=10, model__n_estimators=50\n",
      "[CV 2/2; 13/60] END model__learning_rate=0.001, model__max_depth=10, model__n_estimators=50;, score=0.703 total time=   0.0s\n",
      "[CV 1/2; 14/60] START model__learning_rate=0.001, model__max_depth=10, model__n_estimators=100\n",
      "[CV 1/2; 14/60] END model__learning_rate=0.001, model__max_depth=10, model__n_estimators=100;, score=0.703 total time=   0.2s\n",
      "[CV 2/2; 14/60] START model__learning_rate=0.001, model__max_depth=10, model__n_estimators=100\n",
      "[CV 2/2; 14/60] END model__learning_rate=0.001, model__max_depth=10, model__n_estimators=100;, score=0.703 total time=   0.2s\n",
      "[CV 1/2; 15/60] START model__learning_rate=0.001, model__max_depth=10, model__n_estimators=300\n",
      "[CV 1/2; 15/60] END model__learning_rate=0.001, model__max_depth=10, model__n_estimators=300;, score=0.703 total time=   0.8s\n",
      "[CV 2/2; 15/60] START model__learning_rate=0.001, model__max_depth=10, model__n_estimators=300\n",
      "[CV 2/2; 15/60] END model__learning_rate=0.001, model__max_depth=10, model__n_estimators=300;, score=0.703 total time=   0.8s\n",
      "[CV 1/2; 16/60] START model__learning_rate=0.001, model__max_depth=10, model__n_estimators=500\n",
      "[CV 1/2; 16/60] END model__learning_rate=0.001, model__max_depth=10, model__n_estimators=500;, score=0.733 total time=   1.4s\n",
      "[CV 2/2; 16/60] START model__learning_rate=0.001, model__max_depth=10, model__n_estimators=500\n",
      "[CV 2/2; 16/60] END model__learning_rate=0.001, model__max_depth=10, model__n_estimators=500;, score=0.720 total time=   1.3s\n",
      "[CV 1/2; 17/60] START model__learning_rate=0.001, model__max_depth=50, model__n_estimators=50\n",
      "[CV 1/2; 17/60] END model__learning_rate=0.001, model__max_depth=50, model__n_estimators=50;, score=0.703 total time=   0.1s\n",
      "[CV 2/2; 17/60] START model__learning_rate=0.001, model__max_depth=50, model__n_estimators=50\n",
      "[CV 2/2; 17/60] END model__learning_rate=0.001, model__max_depth=50, model__n_estimators=50;, score=0.703 total time=   0.1s\n",
      "[CV 1/2; 18/60] START model__learning_rate=0.001, model__max_depth=50, model__n_estimators=100\n",
      "[CV 1/2; 18/60] END model__learning_rate=0.001, model__max_depth=50, model__n_estimators=100;, score=0.703 total time=   0.2s\n",
      "[CV 2/2; 18/60] START model__learning_rate=0.001, model__max_depth=50, model__n_estimators=100\n",
      "[CV 2/2; 18/60] END model__learning_rate=0.001, model__max_depth=50, model__n_estimators=100;, score=0.703 total time=   0.2s\n",
      "[CV 1/2; 19/60] START model__learning_rate=0.001, model__max_depth=50, model__n_estimators=300\n",
      "[CV 1/2; 19/60] END model__learning_rate=0.001, model__max_depth=50, model__n_estimators=300;, score=0.703 total time=   0.8s\n",
      "[CV 2/2; 19/60] START model__learning_rate=0.001, model__max_depth=50, model__n_estimators=300\n"
     ]
    },
    {
     "name": "stdout",
     "output_type": "stream",
     "text": [
      "[CV 2/2; 19/60] END model__learning_rate=0.001, model__max_depth=50, model__n_estimators=300;, score=0.703 total time=   0.8s\n",
      "[CV 1/2; 20/60] START model__learning_rate=0.001, model__max_depth=50, model__n_estimators=500\n",
      "[CV 1/2; 20/60] END model__learning_rate=0.001, model__max_depth=50, model__n_estimators=500;, score=0.715 total time=   1.4s\n",
      "[CV 2/2; 20/60] START model__learning_rate=0.001, model__max_depth=50, model__n_estimators=500\n",
      "[CV 2/2; 20/60] END model__learning_rate=0.001, model__max_depth=50, model__n_estimators=500;, score=0.748 total time=   1.4s\n",
      "[CV 1/2; 21/60] START model__learning_rate=0.01, model__max_depth=1, model__n_estimators=50\n",
      "[CV 1/2; 21/60] END model__learning_rate=0.01, model__max_depth=1, model__n_estimators=50;, score=0.703 total time=   0.0s\n",
      "[CV 2/2; 21/60] START model__learning_rate=0.01, model__max_depth=1, model__n_estimators=50\n",
      "[CV 2/2; 21/60] END model__learning_rate=0.01, model__max_depth=1, model__n_estimators=50;, score=0.703 total time=   0.0s\n",
      "[CV 1/2; 22/60] START model__learning_rate=0.01, model__max_depth=1, model__n_estimators=100\n",
      "[CV 1/2; 22/60] END model__learning_rate=0.01, model__max_depth=1, model__n_estimators=100;, score=0.703 total time=   0.0s\n",
      "[CV 2/2; 22/60] START model__learning_rate=0.01, model__max_depth=1, model__n_estimators=100\n",
      "[CV 2/2; 22/60] END model__learning_rate=0.01, model__max_depth=1, model__n_estimators=100;, score=0.703 total time=   0.0s\n",
      "[CV 1/2; 23/60] START model__learning_rate=0.01, model__max_depth=1, model__n_estimators=300\n",
      "[CV 1/2; 23/60] END model__learning_rate=0.01, model__max_depth=1, model__n_estimators=300;, score=0.708 total time=   0.0s\n",
      "[CV 2/2; 23/60] START model__learning_rate=0.01, model__max_depth=1, model__n_estimators=300\n",
      "[CV 2/2; 23/60] END model__learning_rate=0.01, model__max_depth=1, model__n_estimators=300;, score=0.703 total time=   0.0s\n",
      "[CV 1/2; 24/60] START model__learning_rate=0.01, model__max_depth=1, model__n_estimators=500\n",
      "[CV 1/2; 24/60] END model__learning_rate=0.01, model__max_depth=1, model__n_estimators=500;, score=0.703 total time=   0.1s\n",
      "[CV 2/2; 24/60] START model__learning_rate=0.01, model__max_depth=1, model__n_estimators=500\n",
      "[CV 2/2; 24/60] END model__learning_rate=0.01, model__max_depth=1, model__n_estimators=500;, score=0.730 total time=   0.1s\n",
      "[CV 1/2; 25/60] START model__learning_rate=0.01, model__max_depth=3, model__n_estimators=50\n",
      "[CV 1/2; 25/60] END model__learning_rate=0.01, model__max_depth=3, model__n_estimators=50;, score=0.705 total time=   0.0s\n",
      "[CV 2/2; 25/60] START model__learning_rate=0.01, model__max_depth=3, model__n_estimators=50\n",
      "[CV 2/2; 25/60] END model__learning_rate=0.01, model__max_depth=3, model__n_estimators=50;, score=0.708 total time=   0.0s\n",
      "[CV 1/2; 26/60] START model__learning_rate=0.01, model__max_depth=3, model__n_estimators=100\n",
      "[CV 1/2; 26/60] END model__learning_rate=0.01, model__max_depth=3, model__n_estimators=100;, score=0.733 total time=   0.0s\n",
      "[CV 2/2; 26/60] START model__learning_rate=0.01, model__max_depth=3, model__n_estimators=100\n",
      "[CV 2/2; 26/60] END model__learning_rate=0.01, model__max_depth=3, model__n_estimators=100;, score=0.735 total time=   0.0s\n",
      "[CV 1/2; 27/60] START model__learning_rate=0.01, model__max_depth=3, model__n_estimators=300\n",
      "[CV 1/2; 27/60] END model__learning_rate=0.01, model__max_depth=3, model__n_estimators=300;, score=0.725 total time=   0.1s\n",
      "[CV 2/2; 27/60] START model__learning_rate=0.01, model__max_depth=3, model__n_estimators=300\n",
      "[CV 2/2; 27/60] END model__learning_rate=0.01, model__max_depth=3, model__n_estimators=300;, score=0.767 total time=   0.1s\n",
      "[CV 1/2; 28/60] START model__learning_rate=0.01, model__max_depth=3, model__n_estimators=500\n",
      "[CV 1/2; 28/60] END model__learning_rate=0.01, model__max_depth=3, model__n_estimators=500;, score=0.745 total time=   0.3s\n",
      "[CV 2/2; 28/60] START model__learning_rate=0.01, model__max_depth=3, model__n_estimators=500\n",
      "[CV 2/2; 28/60] END model__learning_rate=0.01, model__max_depth=3, model__n_estimators=500;, score=0.777 total time=   0.3s\n",
      "[CV 1/2; 29/60] START model__learning_rate=0.01, model__max_depth=5, model__n_estimators=50\n",
      "[CV 1/2; 29/60] END model__learning_rate=0.01, model__max_depth=5, model__n_estimators=50;, score=0.723 total time=   0.0s\n",
      "[CV 2/2; 29/60] START model__learning_rate=0.01, model__max_depth=5, model__n_estimators=50\n",
      "[CV 2/2; 29/60] END model__learning_rate=0.01, model__max_depth=5, model__n_estimators=50;, score=0.733 total time=   0.0s\n",
      "[CV 1/2; 30/60] START model__learning_rate=0.01, model__max_depth=5, model__n_estimators=100\n",
      "[CV 1/2; 30/60] END model__learning_rate=0.01, model__max_depth=5, model__n_estimators=100;, score=0.757 total time=   0.0s\n",
      "[CV 2/2; 30/60] START model__learning_rate=0.01, model__max_depth=5, model__n_estimators=100\n",
      "[CV 2/2; 30/60] END model__learning_rate=0.01, model__max_depth=5, model__n_estimators=100;, score=0.748 total time=   0.0s\n",
      "[CV 1/2; 31/60] START model__learning_rate=0.01, model__max_depth=5, model__n_estimators=300\n",
      "[CV 1/2; 31/60] END model__learning_rate=0.01, model__max_depth=5, model__n_estimators=300;, score=0.762 total time=   0.3s\n",
      "[CV 2/2; 31/60] START model__learning_rate=0.01, model__max_depth=5, model__n_estimators=300\n",
      "[CV 2/2; 31/60] END model__learning_rate=0.01, model__max_depth=5, model__n_estimators=300;, score=0.767 total time=   0.3s\n",
      "[CV 1/2; 32/60] START model__learning_rate=0.01, model__max_depth=5, model__n_estimators=500\n",
      "[CV 1/2; 32/60] END model__learning_rate=0.01, model__max_depth=5, model__n_estimators=500;, score=0.760 total time=   0.6s\n",
      "[CV 2/2; 32/60] START model__learning_rate=0.01, model__max_depth=5, model__n_estimators=500\n",
      "[CV 2/2; 32/60] END model__learning_rate=0.01, model__max_depth=5, model__n_estimators=500;, score=0.760 total time=   0.6s\n",
      "[CV 1/2; 33/60] START model__learning_rate=0.01, model__max_depth=10, model__n_estimators=50\n",
      "[CV 1/2; 33/60] END model__learning_rate=0.01, model__max_depth=10, model__n_estimators=50;, score=0.728 total time=   0.1s\n",
      "[CV 2/2; 33/60] START model__learning_rate=0.01, model__max_depth=10, model__n_estimators=50\n",
      "[CV 2/2; 33/60] END model__learning_rate=0.01, model__max_depth=10, model__n_estimators=50;, score=0.718 total time=   0.0s\n",
      "[CV 1/2; 34/60] START model__learning_rate=0.01, model__max_depth=10, model__n_estimators=100\n",
      "[CV 1/2; 34/60] END model__learning_rate=0.01, model__max_depth=10, model__n_estimators=100;, score=0.720 total time=   0.2s\n",
      "[CV 2/2; 34/60] START model__learning_rate=0.01, model__max_depth=10, model__n_estimators=100\n",
      "[CV 2/2; 34/60] END model__learning_rate=0.01, model__max_depth=10, model__n_estimators=100;, score=0.720 total time=   0.2s\n",
      "[CV 1/2; 35/60] START model__learning_rate=0.01, model__max_depth=10, model__n_estimators=300\n",
      "[CV 1/2; 35/60] END model__learning_rate=0.01, model__max_depth=10, model__n_estimators=300;, score=0.703 total time=   1.1s\n",
      "[CV 2/2; 35/60] START model__learning_rate=0.01, model__max_depth=10, model__n_estimators=300\n",
      "[CV 2/2; 35/60] END model__learning_rate=0.01, model__max_depth=10, model__n_estimators=300;, score=0.718 total time=   1.1s\n",
      "[CV 1/2; 36/60] START model__learning_rate=0.01, model__max_depth=10, model__n_estimators=500\n",
      "[CV 1/2; 36/60] END model__learning_rate=0.01, model__max_depth=10, model__n_estimators=500;, score=0.705 total time=   2.0s\n",
      "[CV 2/2; 36/60] START model__learning_rate=0.01, model__max_depth=10, model__n_estimators=500\n",
      "[CV 2/2; 36/60] END model__learning_rate=0.01, model__max_depth=10, model__n_estimators=500;, score=0.723 total time=   2.1s\n",
      "[CV 1/2; 37/60] START model__learning_rate=0.01, model__max_depth=50, model__n_estimators=50\n",
      "[CV 1/2; 37/60] END model__learning_rate=0.01, model__max_depth=50, model__n_estimators=50;, score=0.710 total time=   0.1s\n",
      "[CV 2/2; 37/60] START model__learning_rate=0.01, model__max_depth=50, model__n_estimators=50\n",
      "[CV 2/2; 37/60] END model__learning_rate=0.01, model__max_depth=50, model__n_estimators=50;, score=0.745 total time=   0.1s\n",
      "[CV 1/2; 38/60] START model__learning_rate=0.01, model__max_depth=50, model__n_estimators=100\n",
      "[CV 1/2; 38/60] END model__learning_rate=0.01, model__max_depth=50, model__n_estimators=100;, score=0.715 total time=   0.2s\n",
      "[CV 2/2; 38/60] START model__learning_rate=0.01, model__max_depth=50, model__n_estimators=100\n"
     ]
    },
    {
     "name": "stdout",
     "output_type": "stream",
     "text": [
      "[CV 2/2; 38/60] END model__learning_rate=0.01, model__max_depth=50, model__n_estimators=100;, score=0.735 total time=   0.2s\n",
      "[CV 1/2; 39/60] START model__learning_rate=0.01, model__max_depth=50, model__n_estimators=300\n",
      "[CV 1/2; 39/60] END model__learning_rate=0.01, model__max_depth=50, model__n_estimators=300;, score=0.685 total time=   0.8s\n",
      "[CV 2/2; 39/60] START model__learning_rate=0.01, model__max_depth=50, model__n_estimators=300\n",
      "[CV 2/2; 39/60] END model__learning_rate=0.01, model__max_depth=50, model__n_estimators=300;, score=0.730 total time=   0.8s\n",
      "[CV 1/2; 40/60] START model__learning_rate=0.01, model__max_depth=50, model__n_estimators=500\n",
      "[CV 1/2; 40/60] END model__learning_rate=0.01, model__max_depth=50, model__n_estimators=500;, score=0.685 total time=   1.4s\n",
      "[CV 2/2; 40/60] START model__learning_rate=0.01, model__max_depth=50, model__n_estimators=500\n",
      "[CV 2/2; 40/60] END model__learning_rate=0.01, model__max_depth=50, model__n_estimators=500;, score=0.735 total time=   1.4s\n",
      "[CV 1/2; 41/60] START model__learning_rate=0.1, model__max_depth=1, model__n_estimators=50\n",
      "[CV 1/2; 41/60] END model__learning_rate=0.1, model__max_depth=1, model__n_estimators=50;, score=0.705 total time=   0.0s\n",
      "[CV 2/2; 41/60] START model__learning_rate=0.1, model__max_depth=1, model__n_estimators=50\n",
      "[CV 2/2; 41/60] END model__learning_rate=0.1, model__max_depth=1, model__n_estimators=50;, score=0.730 total time=   0.0s\n",
      "[CV 1/2; 42/60] START model__learning_rate=0.1, model__max_depth=1, model__n_estimators=100\n",
      "[CV 1/2; 42/60] END model__learning_rate=0.1, model__max_depth=1, model__n_estimators=100;, score=0.740 total time=   0.0s\n",
      "[CV 2/2; 42/60] START model__learning_rate=0.1, model__max_depth=1, model__n_estimators=100\n",
      "[CV 2/2; 42/60] END model__learning_rate=0.1, model__max_depth=1, model__n_estimators=100;, score=0.740 total time=   0.0s\n",
      "[CV 1/2; 43/60] START model__learning_rate=0.1, model__max_depth=1, model__n_estimators=300\n",
      "[CV 1/2; 43/60] END model__learning_rate=0.1, model__max_depth=1, model__n_estimators=300;, score=0.743 total time=   0.0s\n",
      "[CV 2/2; 43/60] START model__learning_rate=0.1, model__max_depth=1, model__n_estimators=300\n",
      "[CV 2/2; 43/60] END model__learning_rate=0.1, model__max_depth=1, model__n_estimators=300;, score=0.748 total time=   0.0s\n",
      "[CV 1/2; 44/60] START model__learning_rate=0.1, model__max_depth=1, model__n_estimators=500\n",
      "[CV 1/2; 44/60] END model__learning_rate=0.1, model__max_depth=1, model__n_estimators=500;, score=0.745 total time=   0.1s\n",
      "[CV 2/2; 44/60] START model__learning_rate=0.1, model__max_depth=1, model__n_estimators=500\n",
      "[CV 2/2; 44/60] END model__learning_rate=0.1, model__max_depth=1, model__n_estimators=500;, score=0.738 total time=   0.1s\n",
      "[CV 1/2; 45/60] START model__learning_rate=0.1, model__max_depth=3, model__n_estimators=50\n",
      "[CV 1/2; 45/60] END model__learning_rate=0.1, model__max_depth=3, model__n_estimators=50;, score=0.740 total time=   0.0s\n",
      "[CV 2/2; 45/60] START model__learning_rate=0.1, model__max_depth=3, model__n_estimators=50\n",
      "[CV 2/2; 45/60] END model__learning_rate=0.1, model__max_depth=3, model__n_estimators=50;, score=0.775 total time=   0.0s\n",
      "[CV 1/2; 46/60] START model__learning_rate=0.1, model__max_depth=3, model__n_estimators=100\n",
      "[CV 1/2; 46/60] END model__learning_rate=0.1, model__max_depth=3, model__n_estimators=100;, score=0.740 total time=   0.0s\n",
      "[CV 2/2; 46/60] START model__learning_rate=0.1, model__max_depth=3, model__n_estimators=100\n",
      "[CV 2/2; 46/60] END model__learning_rate=0.1, model__max_depth=3, model__n_estimators=100;, score=0.757 total time=   0.0s\n",
      "[CV 1/2; 47/60] START model__learning_rate=0.1, model__max_depth=3, model__n_estimators=300\n",
      "[CV 1/2; 47/60] END model__learning_rate=0.1, model__max_depth=3, model__n_estimators=300;, score=0.738 total time=   0.1s\n",
      "[CV 2/2; 47/60] START model__learning_rate=0.1, model__max_depth=3, model__n_estimators=300\n",
      "[CV 2/2; 47/60] END model__learning_rate=0.1, model__max_depth=3, model__n_estimators=300;, score=0.740 total time=   0.1s\n",
      "[CV 1/2; 48/60] START model__learning_rate=0.1, model__max_depth=3, model__n_estimators=500\n",
      "[CV 1/2; 48/60] END model__learning_rate=0.1, model__max_depth=3, model__n_estimators=500;, score=0.735 total time=   0.3s\n",
      "[CV 2/2; 48/60] START model__learning_rate=0.1, model__max_depth=3, model__n_estimators=500\n",
      "[CV 2/2; 48/60] END model__learning_rate=0.1, model__max_depth=3, model__n_estimators=500;, score=0.730 total time=   0.3s\n",
      "[CV 1/2; 49/60] START model__learning_rate=0.1, model__max_depth=5, model__n_estimators=50\n",
      "[CV 1/2; 49/60] END model__learning_rate=0.1, model__max_depth=5, model__n_estimators=50;, score=0.762 total time=   0.0s\n",
      "[CV 2/2; 49/60] START model__learning_rate=0.1, model__max_depth=5, model__n_estimators=50\n",
      "[CV 2/2; 49/60] END model__learning_rate=0.1, model__max_depth=5, model__n_estimators=50;, score=0.748 total time=   0.0s\n",
      "[CV 1/2; 50/60] START model__learning_rate=0.1, model__max_depth=5, model__n_estimators=100\n",
      "[CV 1/2; 50/60] END model__learning_rate=0.1, model__max_depth=5, model__n_estimators=100;, score=0.767 total time=   0.0s\n",
      "[CV 2/2; 50/60] START model__learning_rate=0.1, model__max_depth=5, model__n_estimators=100\n",
      "[CV 2/2; 50/60] END model__learning_rate=0.1, model__max_depth=5, model__n_estimators=100;, score=0.755 total time=   0.0s\n",
      "[CV 1/2; 51/60] START model__learning_rate=0.1, model__max_depth=5, model__n_estimators=300\n",
      "[CV 1/2; 51/60] END model__learning_rate=0.1, model__max_depth=5, model__n_estimators=300;, score=0.760 total time=   0.3s\n",
      "[CV 2/2; 51/60] START model__learning_rate=0.1, model__max_depth=5, model__n_estimators=300\n",
      "[CV 2/2; 51/60] END model__learning_rate=0.1, model__max_depth=5, model__n_estimators=300;, score=0.760 total time=   0.3s\n",
      "[CV 1/2; 52/60] START model__learning_rate=0.1, model__max_depth=5, model__n_estimators=500\n",
      "[CV 1/2; 52/60] END model__learning_rate=0.1, model__max_depth=5, model__n_estimators=500;, score=0.760 total time=   0.6s\n",
      "[CV 2/2; 52/60] START model__learning_rate=0.1, model__max_depth=5, model__n_estimators=500\n",
      "[CV 2/2; 52/60] END model__learning_rate=0.1, model__max_depth=5, model__n_estimators=500;, score=0.752 total time=   0.6s\n",
      "[CV 1/2; 53/60] START model__learning_rate=0.1, model__max_depth=10, model__n_estimators=50\n",
      "[CV 1/2; 53/60] END model__learning_rate=0.1, model__max_depth=10, model__n_estimators=50;, score=0.708 total time=   0.1s\n",
      "[CV 2/2; 53/60] START model__learning_rate=0.1, model__max_depth=10, model__n_estimators=50\n",
      "[CV 2/2; 53/60] END model__learning_rate=0.1, model__max_depth=10, model__n_estimators=50;, score=0.720 total time=   0.1s\n",
      "[CV 1/2; 54/60] START model__learning_rate=0.1, model__max_depth=10, model__n_estimators=100\n",
      "[CV 1/2; 54/60] END model__learning_rate=0.1, model__max_depth=10, model__n_estimators=100;, score=0.708 total time=   0.4s\n",
      "[CV 2/2; 54/60] START model__learning_rate=0.1, model__max_depth=10, model__n_estimators=100\n",
      "[CV 2/2; 54/60] END model__learning_rate=0.1, model__max_depth=10, model__n_estimators=100;, score=0.738 total time=   0.4s\n",
      "[CV 1/2; 55/60] START model__learning_rate=0.1, model__max_depth=10, model__n_estimators=300\n",
      "[CV 1/2; 55/60] END model__learning_rate=0.1, model__max_depth=10, model__n_estimators=300;, score=0.695 total time=   0.7s\n",
      "[CV 2/2; 55/60] START model__learning_rate=0.1, model__max_depth=10, model__n_estimators=300\n",
      "[CV 2/2; 55/60] END model__learning_rate=0.1, model__max_depth=10, model__n_estimators=300;, score=0.743 total time=   0.9s\n",
      "[CV 1/2; 56/60] START model__learning_rate=0.1, model__max_depth=10, model__n_estimators=500\n",
      "[CV 1/2; 56/60] END model__learning_rate=0.1, model__max_depth=10, model__n_estimators=500;, score=0.710 total time=   0.7s\n",
      "[CV 2/2; 56/60] START model__learning_rate=0.1, model__max_depth=10, model__n_estimators=500\n",
      "[CV 2/2; 56/60] END model__learning_rate=0.1, model__max_depth=10, model__n_estimators=500;, score=0.755 total time=   0.9s\n",
      "[CV 1/2; 57/60] START model__learning_rate=0.1, model__max_depth=50, model__n_estimators=50\n",
      "[CV 1/2; 57/60] END model__learning_rate=0.1, model__max_depth=50, model__n_estimators=50;, score=0.685 total time=   0.0s\n",
      "[CV 2/2; 57/60] START model__learning_rate=0.1, model__max_depth=50, model__n_estimators=50\n",
      "[CV 2/2; 57/60] END model__learning_rate=0.1, model__max_depth=50, model__n_estimators=50;, score=0.735 total time=   0.0s\n",
      "[CV 1/2; 58/60] START model__learning_rate=0.1, model__max_depth=50, model__n_estimators=100\n"
     ]
    },
    {
     "name": "stdout",
     "output_type": "stream",
     "text": [
      "[CV 1/2; 58/60] END model__learning_rate=0.1, model__max_depth=50, model__n_estimators=100;, score=0.677 total time=   0.2s\n",
      "[CV 2/2; 58/60] START model__learning_rate=0.1, model__max_depth=50, model__n_estimators=100\n",
      "[CV 2/2; 58/60] END model__learning_rate=0.1, model__max_depth=50, model__n_estimators=100;, score=0.740 total time=   0.2s\n",
      "[CV 1/2; 59/60] START model__learning_rate=0.1, model__max_depth=50, model__n_estimators=300\n",
      "[CV 1/2; 59/60] END model__learning_rate=0.1, model__max_depth=50, model__n_estimators=300;, score=0.688 total time=   0.4s\n",
      "[CV 2/2; 59/60] START model__learning_rate=0.1, model__max_depth=50, model__n_estimators=300\n",
      "[CV 2/2; 59/60] END model__learning_rate=0.1, model__max_depth=50, model__n_estimators=300;, score=0.725 total time=   0.4s\n",
      "[CV 1/2; 60/60] START model__learning_rate=0.1, model__max_depth=50, model__n_estimators=500\n",
      "[CV 1/2; 60/60] END model__learning_rate=0.1, model__max_depth=50, model__n_estimators=500;, score=0.677 total time=   0.5s\n",
      "[CV 2/2; 60/60] START model__learning_rate=0.1, model__max_depth=50, model__n_estimators=500\n",
      "[CV 2/2; 60/60] END model__learning_rate=0.1, model__max_depth=50, model__n_estimators=500;, score=0.738 total time=   0.5s\n"
     ]
    },
    {
     "data": {
      "text/html": [
       "<style>#sk-container-id-15 {color: black;background-color: white;}#sk-container-id-15 pre{padding: 0;}#sk-container-id-15 div.sk-toggleable {background-color: white;}#sk-container-id-15 label.sk-toggleable__label {cursor: pointer;display: block;width: 100%;margin-bottom: 0;padding: 0.3em;box-sizing: border-box;text-align: center;}#sk-container-id-15 label.sk-toggleable__label-arrow:before {content: \"▸\";float: left;margin-right: 0.25em;color: #696969;}#sk-container-id-15 label.sk-toggleable__label-arrow:hover:before {color: black;}#sk-container-id-15 div.sk-estimator:hover label.sk-toggleable__label-arrow:before {color: black;}#sk-container-id-15 div.sk-toggleable__content {max-height: 0;max-width: 0;overflow: hidden;text-align: left;background-color: #f0f8ff;}#sk-container-id-15 div.sk-toggleable__content pre {margin: 0.2em;color: black;border-radius: 0.25em;background-color: #f0f8ff;}#sk-container-id-15 input.sk-toggleable__control:checked~div.sk-toggleable__content {max-height: 200px;max-width: 100%;overflow: auto;}#sk-container-id-15 input.sk-toggleable__control:checked~label.sk-toggleable__label-arrow:before {content: \"▾\";}#sk-container-id-15 div.sk-estimator input.sk-toggleable__control:checked~label.sk-toggleable__label {background-color: #d4ebff;}#sk-container-id-15 div.sk-label input.sk-toggleable__control:checked~label.sk-toggleable__label {background-color: #d4ebff;}#sk-container-id-15 input.sk-hidden--visually {border: 0;clip: rect(1px 1px 1px 1px);clip: rect(1px, 1px, 1px, 1px);height: 1px;margin: -1px;overflow: hidden;padding: 0;position: absolute;width: 1px;}#sk-container-id-15 div.sk-estimator {font-family: monospace;background-color: #f0f8ff;border: 1px dotted black;border-radius: 0.25em;box-sizing: border-box;margin-bottom: 0.5em;}#sk-container-id-15 div.sk-estimator:hover {background-color: #d4ebff;}#sk-container-id-15 div.sk-parallel-item::after {content: \"\";width: 100%;border-bottom: 1px solid gray;flex-grow: 1;}#sk-container-id-15 div.sk-label:hover label.sk-toggleable__label {background-color: #d4ebff;}#sk-container-id-15 div.sk-serial::before {content: \"\";position: absolute;border-left: 1px solid gray;box-sizing: border-box;top: 0;bottom: 0;left: 50%;z-index: 0;}#sk-container-id-15 div.sk-serial {display: flex;flex-direction: column;align-items: center;background-color: white;padding-right: 0.2em;padding-left: 0.2em;position: relative;}#sk-container-id-15 div.sk-item {position: relative;z-index: 1;}#sk-container-id-15 div.sk-parallel {display: flex;align-items: stretch;justify-content: center;background-color: white;position: relative;}#sk-container-id-15 div.sk-item::before, #sk-container-id-15 div.sk-parallel-item::before {content: \"\";position: absolute;border-left: 1px solid gray;box-sizing: border-box;top: 0;bottom: 0;left: 50%;z-index: -1;}#sk-container-id-15 div.sk-parallel-item {display: flex;flex-direction: column;z-index: 1;position: relative;background-color: white;}#sk-container-id-15 div.sk-parallel-item:first-child::after {align-self: flex-end;width: 50%;}#sk-container-id-15 div.sk-parallel-item:last-child::after {align-self: flex-start;width: 50%;}#sk-container-id-15 div.sk-parallel-item:only-child::after {width: 0;}#sk-container-id-15 div.sk-dashed-wrapped {border: 1px dashed gray;margin: 0 0.4em 0.5em 0.4em;box-sizing: border-box;padding-bottom: 0.4em;background-color: white;}#sk-container-id-15 div.sk-label label {font-family: monospace;font-weight: bold;display: inline-block;line-height: 1.2em;}#sk-container-id-15 div.sk-label-container {text-align: center;}#sk-container-id-15 div.sk-container {/* jupyter's `normalize.less` sets `[hidden] { display: none; }` but bootstrap.min.css set `[hidden] { display: none !important; }` so we also need the `!important` here to be able to override the default hidden behavior on the sphinx rendered scikit-learn.org. See: https://github.com/scikit-learn/scikit-learn/issues/21755 */display: inline-block !important;position: relative;}#sk-container-id-15 div.sk-text-repr-fallback {display: none;}</style><div id=\"sk-container-id-15\" class=\"sk-top-container\"><div class=\"sk-text-repr-fallback\"><pre>GridSearchCV(cv=2,\n",
       "             estimator=Pipeline(steps=[(&#x27;scaler&#x27;, StandardScaler()),\n",
       "                                       (&#x27;model&#x27;,\n",
       "                                        GradientBoostingClassifier())]),\n",
       "             param_grid={&#x27;model__learning_rate&#x27;: [0.001, 0.01, 0.1],\n",
       "                         &#x27;model__max_depth&#x27;: [1, 3, 5, 10, 50],\n",
       "                         &#x27;model__n_estimators&#x27;: [50, 100, 300, 500]},\n",
       "             verbose=10)</pre><b>In a Jupyter environment, please rerun this cell to show the HTML representation or trust the notebook. <br />On GitHub, the HTML representation is unable to render, please try loading this page with nbviewer.org.</b></div><div class=\"sk-container\" hidden><div class=\"sk-item sk-dashed-wrapped\"><div class=\"sk-label-container\"><div class=\"sk-label sk-toggleable\"><input class=\"sk-toggleable__control sk-hidden--visually\" id=\"sk-estimator-id-41\" type=\"checkbox\" ><label for=\"sk-estimator-id-41\" class=\"sk-toggleable__label sk-toggleable__label-arrow\">GridSearchCV</label><div class=\"sk-toggleable__content\"><pre>GridSearchCV(cv=2,\n",
       "             estimator=Pipeline(steps=[(&#x27;scaler&#x27;, StandardScaler()),\n",
       "                                       (&#x27;model&#x27;,\n",
       "                                        GradientBoostingClassifier())]),\n",
       "             param_grid={&#x27;model__learning_rate&#x27;: [0.001, 0.01, 0.1],\n",
       "                         &#x27;model__max_depth&#x27;: [1, 3, 5, 10, 50],\n",
       "                         &#x27;model__n_estimators&#x27;: [50, 100, 300, 500]},\n",
       "             verbose=10)</pre></div></div></div><div class=\"sk-parallel\"><div class=\"sk-parallel-item\"><div class=\"sk-item\"><div class=\"sk-label-container\"><div class=\"sk-label sk-toggleable\"><input class=\"sk-toggleable__control sk-hidden--visually\" id=\"sk-estimator-id-42\" type=\"checkbox\" ><label for=\"sk-estimator-id-42\" class=\"sk-toggleable__label sk-toggleable__label-arrow\">estimator: Pipeline</label><div class=\"sk-toggleable__content\"><pre>Pipeline(steps=[(&#x27;scaler&#x27;, StandardScaler()),\n",
       "                (&#x27;model&#x27;, GradientBoostingClassifier())])</pre></div></div></div><div class=\"sk-serial\"><div class=\"sk-item\"><div class=\"sk-serial\"><div class=\"sk-item\"><div class=\"sk-estimator sk-toggleable\"><input class=\"sk-toggleable__control sk-hidden--visually\" id=\"sk-estimator-id-43\" type=\"checkbox\" ><label for=\"sk-estimator-id-43\" class=\"sk-toggleable__label sk-toggleable__label-arrow\">StandardScaler</label><div class=\"sk-toggleable__content\"><pre>StandardScaler()</pre></div></div></div><div class=\"sk-item\"><div class=\"sk-estimator sk-toggleable\"><input class=\"sk-toggleable__control sk-hidden--visually\" id=\"sk-estimator-id-44\" type=\"checkbox\" ><label for=\"sk-estimator-id-44\" class=\"sk-toggleable__label sk-toggleable__label-arrow\">GradientBoostingClassifier</label><div class=\"sk-toggleable__content\"><pre>GradientBoostingClassifier()</pre></div></div></div></div></div></div></div></div></div></div></div></div>"
      ],
      "text/plain": [
       "GridSearchCV(cv=2,\n",
       "             estimator=Pipeline(steps=[('scaler', StandardScaler()),\n",
       "                                       ('model',\n",
       "                                        GradientBoostingClassifier())]),\n",
       "             param_grid={'model__learning_rate': [0.001, 0.01, 0.1],\n",
       "                         'model__max_depth': [1, 3, 5, 10, 50],\n",
       "                         'model__n_estimators': [50, 100, 300, 500]},\n",
       "             verbose=10)"
      ]
     },
     "execution_count": 94,
     "metadata": {},
     "output_type": "execute_result"
    }
   ],
   "source": [
    "grid_grad.fit(X_train, y_train)"
   ]
  },
  {
   "cell_type": "code",
   "execution_count": 96,
   "id": "95e8b8f1",
   "metadata": {},
   "outputs": [
    {
     "data": {
      "text/plain": [
       "{'model__learning_rate': 0.01,\n",
       " 'model__max_depth': 5,\n",
       " 'model__n_estimators': 300}"
      ]
     },
     "execution_count": 96,
     "metadata": {},
     "output_type": "execute_result"
    }
   ],
   "source": [
    "grid_grad.best_params_"
   ]
  },
  {
   "cell_type": "code",
   "execution_count": 95,
   "id": "455978d8",
   "metadata": {},
   "outputs": [
    {
     "data": {
      "text/plain": [
       "0.75"
      ]
     },
     "execution_count": 95,
     "metadata": {},
     "output_type": "execute_result"
    }
   ],
   "source": [
    "roc_auc_score(y_test, grid_grad.predict_proba(X_test)[:, 1]).round(3)"
   ]
  },
  {
   "cell_type": "markdown",
   "id": "5b98c25f",
   "metadata": {},
   "source": [
    "### MLP"
   ]
  },
  {
   "cell_type": "code",
   "execution_count": 99,
   "id": "186c0be5",
   "metadata": {},
   "outputs": [],
   "source": [
    "pipe_mlp = Pipeline([\n",
    "    ('scaler', StandardScaler()),\n",
    "    ('model', MLPClassifier())\n",
    "])"
   ]
  },
  {
   "cell_type": "code",
   "execution_count": 100,
   "id": "575f6bc2",
   "metadata": {},
   "outputs": [
    {
     "data": {
      "text/plain": [
       "{'memory': None,\n",
       " 'steps': [('scaler', StandardScaler()), ('model', MLPClassifier())],\n",
       " 'verbose': False,\n",
       " 'scaler': StandardScaler(),\n",
       " 'model': MLPClassifier(),\n",
       " 'scaler__copy': True,\n",
       " 'scaler__with_mean': True,\n",
       " 'scaler__with_std': True,\n",
       " 'model__activation': 'relu',\n",
       " 'model__alpha': 0.0001,\n",
       " 'model__batch_size': 'auto',\n",
       " 'model__beta_1': 0.9,\n",
       " 'model__beta_2': 0.999,\n",
       " 'model__early_stopping': False,\n",
       " 'model__epsilon': 1e-08,\n",
       " 'model__hidden_layer_sizes': (100,),\n",
       " 'model__learning_rate': 'constant',\n",
       " 'model__learning_rate_init': 0.001,\n",
       " 'model__max_fun': 15000,\n",
       " 'model__max_iter': 200,\n",
       " 'model__momentum': 0.9,\n",
       " 'model__n_iter_no_change': 10,\n",
       " 'model__nesterovs_momentum': True,\n",
       " 'model__power_t': 0.5,\n",
       " 'model__random_state': None,\n",
       " 'model__shuffle': True,\n",
       " 'model__solver': 'adam',\n",
       " 'model__tol': 0.0001,\n",
       " 'model__validation_fraction': 0.1,\n",
       " 'model__verbose': False,\n",
       " 'model__warm_start': False}"
      ]
     },
     "execution_count": 100,
     "metadata": {},
     "output_type": "execute_result"
    }
   ],
   "source": [
    "pipe_mlp.get_params()"
   ]
  },
  {
   "cell_type": "code",
   "execution_count": 244,
   "id": "25f4040b",
   "metadata": {},
   "outputs": [],
   "source": [
    "params_mlp = {\n",
    "    'model__hidden_layer_sizes': [(50, ), (500, )],\n",
    "    'model__alpha': [1e-7, 1e-6],\n",
    "    'model__learning_rate_init': [5e-3,1e-4, 5e-2],\n",
    "    'model__max_iter': [100, 200, 300],\n",
    "}"
   ]
  },
  {
   "cell_type": "code",
   "execution_count": 245,
   "id": "ee01d014",
   "metadata": {},
   "outputs": [],
   "source": [
    "grid_mlp = GridSearchCV(pipe_mlp, params_mlp, verbose=10, cv=2)"
   ]
  },
  {
   "cell_type": "code",
   "execution_count": 246,
   "id": "db0b7626",
   "metadata": {},
   "outputs": [
    {
     "name": "stdout",
     "output_type": "stream",
     "text": [
      "Fitting 2 folds for each of 36 candidates, totalling 72 fits\n",
      "[CV 1/2; 1/36] START model__alpha=1e-07, model__hidden_layer_sizes=(50,), model__learning_rate_init=0.005, model__max_iter=100\n",
      "[CV 1/2; 1/36] END model__alpha=1e-07, model__hidden_layer_sizes=(50,), model__learning_rate_init=0.005, model__max_iter=100;, score=0.748 total time=   0.0s\n",
      "[CV 2/2; 1/36] START model__alpha=1e-07, model__hidden_layer_sizes=(50,), model__learning_rate_init=0.005, model__max_iter=100\n"
     ]
    },
    {
     "name": "stderr",
     "output_type": "stream",
     "text": [
      "C:\\Users\\dimar\\AppData\\Local\\Programs\\Python\\Python310\\lib\\site-packages\\sklearn\\neural_network\\_multilayer_perceptron.py:702: ConvergenceWarning: Stochastic Optimizer: Maximum iterations (100) reached and the optimization hasn't converged yet.\n",
      "  warnings.warn(\n",
      "C:\\Users\\dimar\\AppData\\Local\\Programs\\Python\\Python310\\lib\\site-packages\\sklearn\\neural_network\\_multilayer_perceptron.py:702: ConvergenceWarning: Stochastic Optimizer: Maximum iterations (100) reached and the optimization hasn't converged yet.\n",
      "  warnings.warn(\n"
     ]
    },
    {
     "name": "stdout",
     "output_type": "stream",
     "text": [
      "[CV 2/2; 1/36] END model__alpha=1e-07, model__hidden_layer_sizes=(50,), model__learning_rate_init=0.005, model__max_iter=100;, score=0.728 total time=   0.0s\n",
      "[CV 1/2; 2/36] START model__alpha=1e-07, model__hidden_layer_sizes=(50,), model__learning_rate_init=0.005, model__max_iter=200\n"
     ]
    },
    {
     "name": "stderr",
     "output_type": "stream",
     "text": [
      "C:\\Users\\dimar\\AppData\\Local\\Programs\\Python\\Python310\\lib\\site-packages\\sklearn\\neural_network\\_multilayer_perceptron.py:702: ConvergenceWarning: Stochastic Optimizer: Maximum iterations (200) reached and the optimization hasn't converged yet.\n",
      "  warnings.warn(\n"
     ]
    },
    {
     "name": "stdout",
     "output_type": "stream",
     "text": [
      "[CV 1/2; 2/36] END model__alpha=1e-07, model__hidden_layer_sizes=(50,), model__learning_rate_init=0.005, model__max_iter=200;, score=0.738 total time=   0.1s\n",
      "[CV 2/2; 2/36] START model__alpha=1e-07, model__hidden_layer_sizes=(50,), model__learning_rate_init=0.005, model__max_iter=200\n"
     ]
    },
    {
     "name": "stderr",
     "output_type": "stream",
     "text": [
      "C:\\Users\\dimar\\AppData\\Local\\Programs\\Python\\Python310\\lib\\site-packages\\sklearn\\neural_network\\_multilayer_perceptron.py:702: ConvergenceWarning: Stochastic Optimizer: Maximum iterations (200) reached and the optimization hasn't converged yet.\n",
      "  warnings.warn(\n"
     ]
    },
    {
     "name": "stdout",
     "output_type": "stream",
     "text": [
      "[CV 2/2; 2/36] END model__alpha=1e-07, model__hidden_layer_sizes=(50,), model__learning_rate_init=0.005, model__max_iter=200;, score=0.728 total time=   0.1s\n",
      "[CV 1/2; 3/36] START model__alpha=1e-07, model__hidden_layer_sizes=(50,), model__learning_rate_init=0.005, model__max_iter=300\n"
     ]
    },
    {
     "name": "stderr",
     "output_type": "stream",
     "text": [
      "C:\\Users\\dimar\\AppData\\Local\\Programs\\Python\\Python310\\lib\\site-packages\\sklearn\\neural_network\\_multilayer_perceptron.py:702: ConvergenceWarning: Stochastic Optimizer: Maximum iterations (300) reached and the optimization hasn't converged yet.\n",
      "  warnings.warn(\n"
     ]
    },
    {
     "name": "stdout",
     "output_type": "stream",
     "text": [
      "[CV 1/2; 3/36] END model__alpha=1e-07, model__hidden_layer_sizes=(50,), model__learning_rate_init=0.005, model__max_iter=300;, score=0.715 total time=   0.3s\n",
      "[CV 2/2; 3/36] START model__alpha=1e-07, model__hidden_layer_sizes=(50,), model__learning_rate_init=0.005, model__max_iter=300\n"
     ]
    },
    {
     "name": "stderr",
     "output_type": "stream",
     "text": [
      "C:\\Users\\dimar\\AppData\\Local\\Programs\\Python\\Python310\\lib\\site-packages\\sklearn\\neural_network\\_multilayer_perceptron.py:702: ConvergenceWarning: Stochastic Optimizer: Maximum iterations (300) reached and the optimization hasn't converged yet.\n",
      "  warnings.warn(\n",
      "C:\\Users\\dimar\\AppData\\Local\\Programs\\Python\\Python310\\lib\\site-packages\\sklearn\\neural_network\\_multilayer_perceptron.py:702: ConvergenceWarning: Stochastic Optimizer: Maximum iterations (100) reached and the optimization hasn't converged yet.\n",
      "  warnings.warn(\n"
     ]
    },
    {
     "name": "stdout",
     "output_type": "stream",
     "text": [
      "[CV 2/2; 3/36] END model__alpha=1e-07, model__hidden_layer_sizes=(50,), model__learning_rate_init=0.005, model__max_iter=300;, score=0.705 total time=   0.3s\n",
      "[CV 1/2; 4/36] START model__alpha=1e-07, model__hidden_layer_sizes=(50,), model__learning_rate_init=0.0001, model__max_iter=100\n",
      "[CV 1/2; 4/36] END model__alpha=1e-07, model__hidden_layer_sizes=(50,), model__learning_rate_init=0.0001, model__max_iter=100;, score=0.677 total time=   0.0s\n",
      "[CV 2/2; 4/36] START model__alpha=1e-07, model__hidden_layer_sizes=(50,), model__learning_rate_init=0.0001, model__max_iter=100\n"
     ]
    },
    {
     "name": "stderr",
     "output_type": "stream",
     "text": [
      "C:\\Users\\dimar\\AppData\\Local\\Programs\\Python\\Python310\\lib\\site-packages\\sklearn\\neural_network\\_multilayer_perceptron.py:702: ConvergenceWarning: Stochastic Optimizer: Maximum iterations (100) reached and the optimization hasn't converged yet.\n",
      "  warnings.warn(\n"
     ]
    },
    {
     "name": "stdout",
     "output_type": "stream",
     "text": [
      "[CV 2/2; 4/36] END model__alpha=1e-07, model__hidden_layer_sizes=(50,), model__learning_rate_init=0.0001, model__max_iter=100;, score=0.675 total time=   0.0s\n",
      "[CV 1/2; 5/36] START model__alpha=1e-07, model__hidden_layer_sizes=(50,), model__learning_rate_init=0.0001, model__max_iter=200\n"
     ]
    },
    {
     "name": "stderr",
     "output_type": "stream",
     "text": [
      "C:\\Users\\dimar\\AppData\\Local\\Programs\\Python\\Python310\\lib\\site-packages\\sklearn\\neural_network\\_multilayer_perceptron.py:702: ConvergenceWarning: Stochastic Optimizer: Maximum iterations (200) reached and the optimization hasn't converged yet.\n",
      "  warnings.warn(\n"
     ]
    },
    {
     "name": "stdout",
     "output_type": "stream",
     "text": [
      "[CV 1/2; 5/36] END model__alpha=1e-07, model__hidden_layer_sizes=(50,), model__learning_rate_init=0.0001, model__max_iter=200;, score=0.672 total time=   0.1s\n",
      "[CV 2/2; 5/36] START model__alpha=1e-07, model__hidden_layer_sizes=(50,), model__learning_rate_init=0.0001, model__max_iter=200\n"
     ]
    },
    {
     "name": "stderr",
     "output_type": "stream",
     "text": [
      "C:\\Users\\dimar\\AppData\\Local\\Programs\\Python\\Python310\\lib\\site-packages\\sklearn\\neural_network\\_multilayer_perceptron.py:702: ConvergenceWarning: Stochastic Optimizer: Maximum iterations (200) reached and the optimization hasn't converged yet.\n",
      "  warnings.warn(\n"
     ]
    },
    {
     "name": "stdout",
     "output_type": "stream",
     "text": [
      "[CV 2/2; 5/36] END model__alpha=1e-07, model__hidden_layer_sizes=(50,), model__learning_rate_init=0.0001, model__max_iter=200;, score=0.740 total time=   0.1s\n",
      "[CV 1/2; 6/36] START model__alpha=1e-07, model__hidden_layer_sizes=(50,), model__learning_rate_init=0.0001, model__max_iter=300\n"
     ]
    },
    {
     "name": "stderr",
     "output_type": "stream",
     "text": [
      "C:\\Users\\dimar\\AppData\\Local\\Programs\\Python\\Python310\\lib\\site-packages\\sklearn\\neural_network\\_multilayer_perceptron.py:702: ConvergenceWarning: Stochastic Optimizer: Maximum iterations (300) reached and the optimization hasn't converged yet.\n",
      "  warnings.warn(\n"
     ]
    },
    {
     "name": "stdout",
     "output_type": "stream",
     "text": [
      "[CV 1/2; 6/36] END model__alpha=1e-07, model__hidden_layer_sizes=(50,), model__learning_rate_init=0.0001, model__max_iter=300;, score=0.750 total time=   0.3s\n",
      "[CV 2/2; 6/36] START model__alpha=1e-07, model__hidden_layer_sizes=(50,), model__learning_rate_init=0.0001, model__max_iter=300\n"
     ]
    },
    {
     "name": "stderr",
     "output_type": "stream",
     "text": [
      "C:\\Users\\dimar\\AppData\\Local\\Programs\\Python\\Python310\\lib\\site-packages\\sklearn\\neural_network\\_multilayer_perceptron.py:702: ConvergenceWarning: Stochastic Optimizer: Maximum iterations (300) reached and the optimization hasn't converged yet.\n",
      "  warnings.warn(\n"
     ]
    },
    {
     "name": "stdout",
     "output_type": "stream",
     "text": [
      "[CV 2/2; 6/36] END model__alpha=1e-07, model__hidden_layer_sizes=(50,), model__learning_rate_init=0.0001, model__max_iter=300;, score=0.723 total time=   0.3s\n",
      "[CV 1/2; 7/36] START model__alpha=1e-07, model__hidden_layer_sizes=(50,), model__learning_rate_init=0.05, model__max_iter=100\n",
      "[CV 1/2; 7/36] END model__alpha=1e-07, model__hidden_layer_sizes=(50,), model__learning_rate_init=0.05, model__max_iter=100;, score=0.730 total time=   0.0s\n",
      "[CV 2/2; 7/36] START model__alpha=1e-07, model__hidden_layer_sizes=(50,), model__learning_rate_init=0.05, model__max_iter=100\n"
     ]
    },
    {
     "name": "stderr",
     "output_type": "stream",
     "text": [
      "C:\\Users\\dimar\\AppData\\Local\\Programs\\Python\\Python310\\lib\\site-packages\\sklearn\\neural_network\\_multilayer_perceptron.py:702: ConvergenceWarning: Stochastic Optimizer: Maximum iterations (100) reached and the optimization hasn't converged yet.\n",
      "  warnings.warn(\n"
     ]
    },
    {
     "name": "stdout",
     "output_type": "stream",
     "text": [
      "[CV 2/2; 7/36] END model__alpha=1e-07, model__hidden_layer_sizes=(50,), model__learning_rate_init=0.05, model__max_iter=100;, score=0.703 total time=   0.0s\n",
      "[CV 1/2; 8/36] START model__alpha=1e-07, model__hidden_layer_sizes=(50,), model__learning_rate_init=0.05, model__max_iter=200\n",
      "[CV 1/2; 8/36] END model__alpha=1e-07, model__hidden_layer_sizes=(50,), model__learning_rate_init=0.05, model__max_iter=200;, score=0.748 total time=   0.0s\n",
      "[CV 2/2; 8/36] START model__alpha=1e-07, model__hidden_layer_sizes=(50,), model__learning_rate_init=0.05, model__max_iter=200\n",
      "[CV 2/2; 8/36] END model__alpha=1e-07, model__hidden_layer_sizes=(50,), model__learning_rate_init=0.05, model__max_iter=200;, score=0.710 total time=   0.0s\n",
      "[CV 1/2; 9/36] START model__alpha=1e-07, model__hidden_layer_sizes=(50,), model__learning_rate_init=0.05, model__max_iter=300\n",
      "[CV 1/2; 9/36] END model__alpha=1e-07, model__hidden_layer_sizes=(50,), model__learning_rate_init=0.05, model__max_iter=300;, score=0.720 total time=   0.0s\n",
      "[CV 2/2; 9/36] START model__alpha=1e-07, model__hidden_layer_sizes=(50,), model__learning_rate_init=0.05, model__max_iter=300\n",
      "[CV 2/2; 9/36] END model__alpha=1e-07, model__hidden_layer_sizes=(50,), model__learning_rate_init=0.05, model__max_iter=300;, score=0.705 total time=   0.0s\n",
      "[CV 1/2; 10/36] START model__alpha=1e-07, model__hidden_layer_sizes=(500,), model__learning_rate_init=0.005, model__max_iter=100\n"
     ]
    },
    {
     "name": "stderr",
     "output_type": "stream",
     "text": [
      "C:\\Users\\dimar\\AppData\\Local\\Programs\\Python\\Python310\\lib\\site-packages\\sklearn\\neural_network\\_multilayer_perceptron.py:702: ConvergenceWarning: Stochastic Optimizer: Maximum iterations (100) reached and the optimization hasn't converged yet.\n",
      "  warnings.warn(\n"
     ]
    },
    {
     "name": "stdout",
     "output_type": "stream",
     "text": [
      "[CV 1/2; 10/36] END model__alpha=1e-07, model__hidden_layer_sizes=(500,), model__learning_rate_init=0.005, model__max_iter=100;, score=0.738 total time=   0.3s\n",
      "[CV 2/2; 10/36] START model__alpha=1e-07, model__hidden_layer_sizes=(500,), model__learning_rate_init=0.005, model__max_iter=100\n"
     ]
    },
    {
     "name": "stderr",
     "output_type": "stream",
     "text": [
      "C:\\Users\\dimar\\AppData\\Local\\Programs\\Python\\Python310\\lib\\site-packages\\sklearn\\neural_network\\_multilayer_perceptron.py:702: ConvergenceWarning: Stochastic Optimizer: Maximum iterations (100) reached and the optimization hasn't converged yet.\n",
      "  warnings.warn(\n"
     ]
    },
    {
     "name": "stdout",
     "output_type": "stream",
     "text": [
      "[CV 2/2; 10/36] END model__alpha=1e-07, model__hidden_layer_sizes=(500,), model__learning_rate_init=0.005, model__max_iter=100;, score=0.718 total time=   0.3s\n",
      "[CV 1/2; 11/36] START model__alpha=1e-07, model__hidden_layer_sizes=(500,), model__learning_rate_init=0.005, model__max_iter=200\n",
      "[CV 1/2; 11/36] END model__alpha=1e-07, model__hidden_layer_sizes=(500,), model__learning_rate_init=0.005, model__max_iter=200;, score=0.735 total time=   0.5s\n",
      "[CV 2/2; 11/36] START model__alpha=1e-07, model__hidden_layer_sizes=(500,), model__learning_rate_init=0.005, model__max_iter=200\n",
      "[CV 2/2; 11/36] END model__alpha=1e-07, model__hidden_layer_sizes=(500,), model__learning_rate_init=0.005, model__max_iter=200;, score=0.710 total time=   0.6s\n",
      "[CV 1/2; 12/36] START model__alpha=1e-07, model__hidden_layer_sizes=(500,), model__learning_rate_init=0.005, model__max_iter=300\n",
      "[CV 1/2; 12/36] END model__alpha=1e-07, model__hidden_layer_sizes=(500,), model__learning_rate_init=0.005, model__max_iter=300;, score=0.735 total time=   0.5s\n",
      "[CV 2/2; 12/36] START model__alpha=1e-07, model__hidden_layer_sizes=(500,), model__learning_rate_init=0.005, model__max_iter=300\n",
      "[CV 2/2; 12/36] END model__alpha=1e-07, model__hidden_layer_sizes=(500,), model__learning_rate_init=0.005, model__max_iter=300;, score=0.682 total time=   0.6s\n",
      "[CV 1/2; 13/36] START model__alpha=1e-07, model__hidden_layer_sizes=(500,), model__learning_rate_init=0.0001, model__max_iter=100\n"
     ]
    },
    {
     "name": "stderr",
     "output_type": "stream",
     "text": [
      "C:\\Users\\dimar\\AppData\\Local\\Programs\\Python\\Python310\\lib\\site-packages\\sklearn\\neural_network\\_multilayer_perceptron.py:702: ConvergenceWarning: Stochastic Optimizer: Maximum iterations (100) reached and the optimization hasn't converged yet.\n",
      "  warnings.warn(\n"
     ]
    },
    {
     "name": "stdout",
     "output_type": "stream",
     "text": [
      "[CV 1/2; 13/36] END model__alpha=1e-07, model__hidden_layer_sizes=(500,), model__learning_rate_init=0.0001, model__max_iter=100;, score=0.750 total time=   0.3s\n",
      "[CV 2/2; 13/36] START model__alpha=1e-07, model__hidden_layer_sizes=(500,), model__learning_rate_init=0.0001, model__max_iter=100\n"
     ]
    },
    {
     "name": "stderr",
     "output_type": "stream",
     "text": [
      "C:\\Users\\dimar\\AppData\\Local\\Programs\\Python\\Python310\\lib\\site-packages\\sklearn\\neural_network\\_multilayer_perceptron.py:702: ConvergenceWarning: Stochastic Optimizer: Maximum iterations (100) reached and the optimization hasn't converged yet.\n",
      "  warnings.warn(\n"
     ]
    },
    {
     "name": "stdout",
     "output_type": "stream",
     "text": [
      "[CV 2/2; 13/36] END model__alpha=1e-07, model__hidden_layer_sizes=(500,), model__learning_rate_init=0.0001, model__max_iter=100;, score=0.752 total time=   0.3s\n",
      "[CV 1/2; 14/36] START model__alpha=1e-07, model__hidden_layer_sizes=(500,), model__learning_rate_init=0.0001, model__max_iter=200\n"
     ]
    },
    {
     "name": "stderr",
     "output_type": "stream",
     "text": [
      "C:\\Users\\dimar\\AppData\\Local\\Programs\\Python\\Python310\\lib\\site-packages\\sklearn\\neural_network\\_multilayer_perceptron.py:702: ConvergenceWarning: Stochastic Optimizer: Maximum iterations (200) reached and the optimization hasn't converged yet.\n",
      "  warnings.warn(\n"
     ]
    },
    {
     "name": "stdout",
     "output_type": "stream",
     "text": [
      "[CV 1/2; 14/36] END model__alpha=1e-07, model__hidden_layer_sizes=(500,), model__learning_rate_init=0.0001, model__max_iter=200;, score=0.757 total time=   0.8s\n",
      "[CV 2/2; 14/36] START model__alpha=1e-07, model__hidden_layer_sizes=(500,), model__learning_rate_init=0.0001, model__max_iter=200\n"
     ]
    },
    {
     "name": "stderr",
     "output_type": "stream",
     "text": [
      "C:\\Users\\dimar\\AppData\\Local\\Programs\\Python\\Python310\\lib\\site-packages\\sklearn\\neural_network\\_multilayer_perceptron.py:702: ConvergenceWarning: Stochastic Optimizer: Maximum iterations (200) reached and the optimization hasn't converged yet.\n",
      "  warnings.warn(\n"
     ]
    },
    {
     "name": "stdout",
     "output_type": "stream",
     "text": [
      "[CV 2/2; 14/36] END model__alpha=1e-07, model__hidden_layer_sizes=(500,), model__learning_rate_init=0.0001, model__max_iter=200;, score=0.760 total time=   0.7s\n",
      "[CV 1/2; 15/36] START model__alpha=1e-07, model__hidden_layer_sizes=(500,), model__learning_rate_init=0.0001, model__max_iter=300\n"
     ]
    },
    {
     "name": "stderr",
     "output_type": "stream",
     "text": [
      "C:\\Users\\dimar\\AppData\\Local\\Programs\\Python\\Python310\\lib\\site-packages\\sklearn\\neural_network\\_multilayer_perceptron.py:702: ConvergenceWarning: Stochastic Optimizer: Maximum iterations (300) reached and the optimization hasn't converged yet.\n",
      "  warnings.warn(\n"
     ]
    },
    {
     "name": "stdout",
     "output_type": "stream",
     "text": [
      "[CV 1/2; 15/36] END model__alpha=1e-07, model__hidden_layer_sizes=(500,), model__learning_rate_init=0.0001, model__max_iter=300;, score=0.760 total time=   1.1s\n",
      "[CV 2/2; 15/36] START model__alpha=1e-07, model__hidden_layer_sizes=(500,), model__learning_rate_init=0.0001, model__max_iter=300\n"
     ]
    },
    {
     "name": "stderr",
     "output_type": "stream",
     "text": [
      "C:\\Users\\dimar\\AppData\\Local\\Programs\\Python\\Python310\\lib\\site-packages\\sklearn\\neural_network\\_multilayer_perceptron.py:702: ConvergenceWarning: Stochastic Optimizer: Maximum iterations (300) reached and the optimization hasn't converged yet.\n",
      "  warnings.warn(\n"
     ]
    },
    {
     "name": "stdout",
     "output_type": "stream",
     "text": [
      "[CV 2/2; 15/36] END model__alpha=1e-07, model__hidden_layer_sizes=(500,), model__learning_rate_init=0.0001, model__max_iter=300;, score=0.748 total time=   1.1s\n",
      "[CV 1/2; 16/36] START model__alpha=1e-07, model__hidden_layer_sizes=(500,), model__learning_rate_init=0.05, model__max_iter=100\n",
      "[CV 1/2; 16/36] END model__alpha=1e-07, model__hidden_layer_sizes=(500,), model__learning_rate_init=0.05, model__max_iter=100;, score=0.725 total time=   0.1s\n",
      "[CV 2/2; 16/36] START model__alpha=1e-07, model__hidden_layer_sizes=(500,), model__learning_rate_init=0.05, model__max_iter=100\n",
      "[CV 2/2; 16/36] END model__alpha=1e-07, model__hidden_layer_sizes=(500,), model__learning_rate_init=0.05, model__max_iter=100;, score=0.693 total time=   0.2s\n",
      "[CV 1/2; 17/36] START model__alpha=1e-07, model__hidden_layer_sizes=(500,), model__learning_rate_init=0.05, model__max_iter=200\n",
      "[CV 1/2; 17/36] END model__alpha=1e-07, model__hidden_layer_sizes=(500,), model__learning_rate_init=0.05, model__max_iter=200;, score=0.725 total time=   0.1s\n",
      "[CV 2/2; 17/36] START model__alpha=1e-07, model__hidden_layer_sizes=(500,), model__learning_rate_init=0.05, model__max_iter=200\n",
      "[CV 2/2; 17/36] END model__alpha=1e-07, model__hidden_layer_sizes=(500,), model__learning_rate_init=0.05, model__max_iter=200;, score=0.703 total time=   0.1s\n",
      "[CV 1/2; 18/36] START model__alpha=1e-07, model__hidden_layer_sizes=(500,), model__learning_rate_init=0.05, model__max_iter=300\n",
      "[CV 1/2; 18/36] END model__alpha=1e-07, model__hidden_layer_sizes=(500,), model__learning_rate_init=0.05, model__max_iter=300;, score=0.738 total time=   0.1s\n",
      "[CV 2/2; 18/36] START model__alpha=1e-07, model__hidden_layer_sizes=(500,), model__learning_rate_init=0.05, model__max_iter=300\n",
      "[CV 2/2; 18/36] END model__alpha=1e-07, model__hidden_layer_sizes=(500,), model__learning_rate_init=0.05, model__max_iter=300;, score=0.698 total time=   0.1s\n",
      "[CV 1/2; 19/36] START model__alpha=1e-06, model__hidden_layer_sizes=(50,), model__learning_rate_init=0.005, model__max_iter=100\n",
      "[CV 1/2; 19/36] END model__alpha=1e-06, model__hidden_layer_sizes=(50,), model__learning_rate_init=0.005, model__max_iter=100;, score=0.752 total time=   0.0s\n",
      "[CV 2/2; 19/36] START model__alpha=1e-06, model__hidden_layer_sizes=(50,), model__learning_rate_init=0.005, model__max_iter=100\n"
     ]
    },
    {
     "name": "stderr",
     "output_type": "stream",
     "text": [
      "C:\\Users\\dimar\\AppData\\Local\\Programs\\Python\\Python310\\lib\\site-packages\\sklearn\\neural_network\\_multilayer_perceptron.py:702: ConvergenceWarning: Stochastic Optimizer: Maximum iterations (100) reached and the optimization hasn't converged yet.\n",
      "  warnings.warn(\n",
      "C:\\Users\\dimar\\AppData\\Local\\Programs\\Python\\Python310\\lib\\site-packages\\sklearn\\neural_network\\_multilayer_perceptron.py:702: ConvergenceWarning: Stochastic Optimizer: Maximum iterations (100) reached and the optimization hasn't converged yet.\n",
      "  warnings.warn(\n"
     ]
    },
    {
     "name": "stdout",
     "output_type": "stream",
     "text": [
      "[CV 2/2; 19/36] END model__alpha=1e-06, model__hidden_layer_sizes=(50,), model__learning_rate_init=0.005, model__max_iter=100;, score=0.715 total time=   0.0s\n",
      "[CV 1/2; 20/36] START model__alpha=1e-06, model__hidden_layer_sizes=(50,), model__learning_rate_init=0.005, model__max_iter=200\n"
     ]
    },
    {
     "name": "stderr",
     "output_type": "stream",
     "text": [
      "C:\\Users\\dimar\\AppData\\Local\\Programs\\Python\\Python310\\lib\\site-packages\\sklearn\\neural_network\\_multilayer_perceptron.py:702: ConvergenceWarning: Stochastic Optimizer: Maximum iterations (200) reached and the optimization hasn't converged yet.\n",
      "  warnings.warn(\n"
     ]
    },
    {
     "name": "stdout",
     "output_type": "stream",
     "text": [
      "[CV 1/2; 20/36] END model__alpha=1e-06, model__hidden_layer_sizes=(50,), model__learning_rate_init=0.005, model__max_iter=200;, score=0.738 total time=   0.1s\n",
      "[CV 2/2; 20/36] START model__alpha=1e-06, model__hidden_layer_sizes=(50,), model__learning_rate_init=0.005, model__max_iter=200\n"
     ]
    },
    {
     "name": "stderr",
     "output_type": "stream",
     "text": [
      "C:\\Users\\dimar\\AppData\\Local\\Programs\\Python\\Python310\\lib\\site-packages\\sklearn\\neural_network\\_multilayer_perceptron.py:702: ConvergenceWarning: Stochastic Optimizer: Maximum iterations (200) reached and the optimization hasn't converged yet.\n",
      "  warnings.warn(\n"
     ]
    },
    {
     "name": "stdout",
     "output_type": "stream",
     "text": [
      "[CV 2/2; 20/36] END model__alpha=1e-06, model__hidden_layer_sizes=(50,), model__learning_rate_init=0.005, model__max_iter=200;, score=0.700 total time=   0.1s\n",
      "[CV 1/2; 21/36] START model__alpha=1e-06, model__hidden_layer_sizes=(50,), model__learning_rate_init=0.005, model__max_iter=300\n"
     ]
    },
    {
     "name": "stderr",
     "output_type": "stream",
     "text": [
      "C:\\Users\\dimar\\AppData\\Local\\Programs\\Python\\Python310\\lib\\site-packages\\sklearn\\neural_network\\_multilayer_perceptron.py:702: ConvergenceWarning: Stochastic Optimizer: Maximum iterations (300) reached and the optimization hasn't converged yet.\n",
      "  warnings.warn(\n"
     ]
    },
    {
     "name": "stdout",
     "output_type": "stream",
     "text": [
      "[CV 1/2; 21/36] END model__alpha=1e-06, model__hidden_layer_sizes=(50,), model__learning_rate_init=0.005, model__max_iter=300;, score=0.755 total time=   0.3s\n",
      "[CV 2/2; 21/36] START model__alpha=1e-06, model__hidden_layer_sizes=(50,), model__learning_rate_init=0.005, model__max_iter=300\n"
     ]
    },
    {
     "name": "stderr",
     "output_type": "stream",
     "text": [
      "C:\\Users\\dimar\\AppData\\Local\\Programs\\Python\\Python310\\lib\\site-packages\\sklearn\\neural_network\\_multilayer_perceptron.py:702: ConvergenceWarning: Stochastic Optimizer: Maximum iterations (300) reached and the optimization hasn't converged yet.\n",
      "  warnings.warn(\n",
      "C:\\Users\\dimar\\AppData\\Local\\Programs\\Python\\Python310\\lib\\site-packages\\sklearn\\neural_network\\_multilayer_perceptron.py:702: ConvergenceWarning: Stochastic Optimizer: Maximum iterations (100) reached and the optimization hasn't converged yet.\n",
      "  warnings.warn(\n"
     ]
    },
    {
     "name": "stdout",
     "output_type": "stream",
     "text": [
      "[CV 2/2; 21/36] END model__alpha=1e-06, model__hidden_layer_sizes=(50,), model__learning_rate_init=0.005, model__max_iter=300;, score=0.685 total time=   0.3s\n",
      "[CV 1/2; 22/36] START model__alpha=1e-06, model__hidden_layer_sizes=(50,), model__learning_rate_init=0.0001, model__max_iter=100\n",
      "[CV 1/2; 22/36] END model__alpha=1e-06, model__hidden_layer_sizes=(50,), model__learning_rate_init=0.0001, model__max_iter=100;, score=0.690 total time=   0.0s\n",
      "[CV 2/2; 22/36] START model__alpha=1e-06, model__hidden_layer_sizes=(50,), model__learning_rate_init=0.0001, model__max_iter=100\n"
     ]
    },
    {
     "name": "stderr",
     "output_type": "stream",
     "text": [
      "C:\\Users\\dimar\\AppData\\Local\\Programs\\Python\\Python310\\lib\\site-packages\\sklearn\\neural_network\\_multilayer_perceptron.py:702: ConvergenceWarning: Stochastic Optimizer: Maximum iterations (100) reached and the optimization hasn't converged yet.\n",
      "  warnings.warn(\n"
     ]
    },
    {
     "name": "stdout",
     "output_type": "stream",
     "text": [
      "[CV 2/2; 22/36] END model__alpha=1e-06, model__hidden_layer_sizes=(50,), model__learning_rate_init=0.0001, model__max_iter=100;, score=0.710 total time=   0.0s\n",
      "[CV 1/2; 23/36] START model__alpha=1e-06, model__hidden_layer_sizes=(50,), model__learning_rate_init=0.0001, model__max_iter=200\n"
     ]
    },
    {
     "name": "stderr",
     "output_type": "stream",
     "text": [
      "C:\\Users\\dimar\\AppData\\Local\\Programs\\Python\\Python310\\lib\\site-packages\\sklearn\\neural_network\\_multilayer_perceptron.py:702: ConvergenceWarning: Stochastic Optimizer: Maximum iterations (200) reached and the optimization hasn't converged yet.\n",
      "  warnings.warn(\n"
     ]
    },
    {
     "name": "stdout",
     "output_type": "stream",
     "text": [
      "[CV 1/2; 23/36] END model__alpha=1e-06, model__hidden_layer_sizes=(50,), model__learning_rate_init=0.0001, model__max_iter=200;, score=0.703 total time=   0.2s\n",
      "[CV 2/2; 23/36] START model__alpha=1e-06, model__hidden_layer_sizes=(50,), model__learning_rate_init=0.0001, model__max_iter=200\n"
     ]
    },
    {
     "name": "stderr",
     "output_type": "stream",
     "text": [
      "C:\\Users\\dimar\\AppData\\Local\\Programs\\Python\\Python310\\lib\\site-packages\\sklearn\\neural_network\\_multilayer_perceptron.py:702: ConvergenceWarning: Stochastic Optimizer: Maximum iterations (200) reached and the optimization hasn't converged yet.\n",
      "  warnings.warn(\n"
     ]
    },
    {
     "name": "stdout",
     "output_type": "stream",
     "text": [
      "[CV 2/2; 23/36] END model__alpha=1e-06, model__hidden_layer_sizes=(50,), model__learning_rate_init=0.0001, model__max_iter=200;, score=0.670 total time=   0.1s\n",
      "[CV 1/2; 24/36] START model__alpha=1e-06, model__hidden_layer_sizes=(50,), model__learning_rate_init=0.0001, model__max_iter=300\n"
     ]
    },
    {
     "name": "stderr",
     "output_type": "stream",
     "text": [
      "C:\\Users\\dimar\\AppData\\Local\\Programs\\Python\\Python310\\lib\\site-packages\\sklearn\\neural_network\\_multilayer_perceptron.py:702: ConvergenceWarning: Stochastic Optimizer: Maximum iterations (300) reached and the optimization hasn't converged yet.\n",
      "  warnings.warn(\n"
     ]
    },
    {
     "name": "stdout",
     "output_type": "stream",
     "text": [
      "[CV 1/2; 24/36] END model__alpha=1e-06, model__hidden_layer_sizes=(50,), model__learning_rate_init=0.0001, model__max_iter=300;, score=0.725 total time=   0.3s\n",
      "[CV 2/2; 24/36] START model__alpha=1e-06, model__hidden_layer_sizes=(50,), model__learning_rate_init=0.0001, model__max_iter=300\n"
     ]
    },
    {
     "name": "stderr",
     "output_type": "stream",
     "text": [
      "C:\\Users\\dimar\\AppData\\Local\\Programs\\Python\\Python310\\lib\\site-packages\\sklearn\\neural_network\\_multilayer_perceptron.py:702: ConvergenceWarning: Stochastic Optimizer: Maximum iterations (300) reached and the optimization hasn't converged yet.\n",
      "  warnings.warn(\n"
     ]
    },
    {
     "name": "stdout",
     "output_type": "stream",
     "text": [
      "[CV 2/2; 24/36] END model__alpha=1e-06, model__hidden_layer_sizes=(50,), model__learning_rate_init=0.0001, model__max_iter=300;, score=0.752 total time=   0.3s\n",
      "[CV 1/2; 25/36] START model__alpha=1e-06, model__hidden_layer_sizes=(50,), model__learning_rate_init=0.05, model__max_iter=100\n",
      "[CV 1/2; 25/36] END model__alpha=1e-06, model__hidden_layer_sizes=(50,), model__learning_rate_init=0.05, model__max_iter=100;, score=0.718 total time=   0.0s\n",
      "[CV 2/2; 25/36] START model__alpha=1e-06, model__hidden_layer_sizes=(50,), model__learning_rate_init=0.05, model__max_iter=100\n"
     ]
    },
    {
     "name": "stderr",
     "output_type": "stream",
     "text": [
      "C:\\Users\\dimar\\AppData\\Local\\Programs\\Python\\Python310\\lib\\site-packages\\sklearn\\neural_network\\_multilayer_perceptron.py:702: ConvergenceWarning: Stochastic Optimizer: Maximum iterations (100) reached and the optimization hasn't converged yet.\n",
      "  warnings.warn(\n"
     ]
    },
    {
     "name": "stdout",
     "output_type": "stream",
     "text": [
      "[CV 2/2; 25/36] END model__alpha=1e-06, model__hidden_layer_sizes=(50,), model__learning_rate_init=0.05, model__max_iter=100;, score=0.695 total time=   0.0s\n",
      "[CV 1/2; 26/36] START model__alpha=1e-06, model__hidden_layer_sizes=(50,), model__learning_rate_init=0.05, model__max_iter=200\n",
      "[CV 1/2; 26/36] END model__alpha=1e-06, model__hidden_layer_sizes=(50,), model__learning_rate_init=0.05, model__max_iter=200;, score=0.740 total time=   0.0s\n",
      "[CV 2/2; 26/36] START model__alpha=1e-06, model__hidden_layer_sizes=(50,), model__learning_rate_init=0.05, model__max_iter=200\n",
      "[CV 2/2; 26/36] END model__alpha=1e-06, model__hidden_layer_sizes=(50,), model__learning_rate_init=0.05, model__max_iter=200;, score=0.700 total time=   0.0s\n",
      "[CV 1/2; 27/36] START model__alpha=1e-06, model__hidden_layer_sizes=(50,), model__learning_rate_init=0.05, model__max_iter=300\n",
      "[CV 1/2; 27/36] END model__alpha=1e-06, model__hidden_layer_sizes=(50,), model__learning_rate_init=0.05, model__max_iter=300;, score=0.740 total time=   0.0s\n",
      "[CV 2/2; 27/36] START model__alpha=1e-06, model__hidden_layer_sizes=(50,), model__learning_rate_init=0.05, model__max_iter=300\n",
      "[CV 2/2; 27/36] END model__alpha=1e-06, model__hidden_layer_sizes=(50,), model__learning_rate_init=0.05, model__max_iter=300;, score=0.690 total time=   0.0s\n",
      "[CV 1/2; 28/36] START model__alpha=1e-06, model__hidden_layer_sizes=(500,), model__learning_rate_init=0.005, model__max_iter=100\n"
     ]
    },
    {
     "name": "stderr",
     "output_type": "stream",
     "text": [
      "C:\\Users\\dimar\\AppData\\Local\\Programs\\Python\\Python310\\lib\\site-packages\\sklearn\\neural_network\\_multilayer_perceptron.py:702: ConvergenceWarning: Stochastic Optimizer: Maximum iterations (100) reached and the optimization hasn't converged yet.\n",
      "  warnings.warn(\n"
     ]
    },
    {
     "name": "stdout",
     "output_type": "stream",
     "text": [
      "[CV 1/2; 28/36] END model__alpha=1e-06, model__hidden_layer_sizes=(500,), model__learning_rate_init=0.005, model__max_iter=100;, score=0.750 total time=   0.3s\n",
      "[CV 2/2; 28/36] START model__alpha=1e-06, model__hidden_layer_sizes=(500,), model__learning_rate_init=0.005, model__max_iter=100\n"
     ]
    },
    {
     "name": "stderr",
     "output_type": "stream",
     "text": [
      "C:\\Users\\dimar\\AppData\\Local\\Programs\\Python\\Python310\\lib\\site-packages\\sklearn\\neural_network\\_multilayer_perceptron.py:702: ConvergenceWarning: Stochastic Optimizer: Maximum iterations (100) reached and the optimization hasn't converged yet.\n",
      "  warnings.warn(\n"
     ]
    },
    {
     "name": "stdout",
     "output_type": "stream",
     "text": [
      "[CV 2/2; 28/36] END model__alpha=1e-06, model__hidden_layer_sizes=(500,), model__learning_rate_init=0.005, model__max_iter=100;, score=0.713 total time=   0.3s\n",
      "[CV 1/2; 29/36] START model__alpha=1e-06, model__hidden_layer_sizes=(500,), model__learning_rate_init=0.005, model__max_iter=200\n",
      "[CV 1/2; 29/36] END model__alpha=1e-06, model__hidden_layer_sizes=(500,), model__learning_rate_init=0.005, model__max_iter=200;, score=0.740 total time=   0.5s\n",
      "[CV 2/2; 29/36] START model__alpha=1e-06, model__hidden_layer_sizes=(500,), model__learning_rate_init=0.005, model__max_iter=200\n",
      "[CV 2/2; 29/36] END model__alpha=1e-06, model__hidden_layer_sizes=(500,), model__learning_rate_init=0.005, model__max_iter=200;, score=0.708 total time=   0.6s\n",
      "[CV 1/2; 30/36] START model__alpha=1e-06, model__hidden_layer_sizes=(500,), model__learning_rate_init=0.005, model__max_iter=300\n",
      "[CV 1/2; 30/36] END model__alpha=1e-06, model__hidden_layer_sizes=(500,), model__learning_rate_init=0.005, model__max_iter=300;, score=0.730 total time=   0.5s\n",
      "[CV 2/2; 30/36] START model__alpha=1e-06, model__hidden_layer_sizes=(500,), model__learning_rate_init=0.005, model__max_iter=300\n",
      "[CV 2/2; 30/36] END model__alpha=1e-06, model__hidden_layer_sizes=(500,), model__learning_rate_init=0.005, model__max_iter=300;, score=0.715 total time=   0.6s\n",
      "[CV 1/2; 31/36] START model__alpha=1e-06, model__hidden_layer_sizes=(500,), model__learning_rate_init=0.0001, model__max_iter=100\n"
     ]
    },
    {
     "name": "stderr",
     "output_type": "stream",
     "text": [
      "C:\\Users\\dimar\\AppData\\Local\\Programs\\Python\\Python310\\lib\\site-packages\\sklearn\\neural_network\\_multilayer_perceptron.py:702: ConvergenceWarning: Stochastic Optimizer: Maximum iterations (100) reached and the optimization hasn't converged yet.\n",
      "  warnings.warn(\n"
     ]
    },
    {
     "name": "stdout",
     "output_type": "stream",
     "text": [
      "[CV 1/2; 31/36] END model__alpha=1e-06, model__hidden_layer_sizes=(500,), model__learning_rate_init=0.0001, model__max_iter=100;, score=0.748 total time=   0.3s\n",
      "[CV 2/2; 31/36] START model__alpha=1e-06, model__hidden_layer_sizes=(500,), model__learning_rate_init=0.0001, model__max_iter=100\n"
     ]
    },
    {
     "name": "stderr",
     "output_type": "stream",
     "text": [
      "C:\\Users\\dimar\\AppData\\Local\\Programs\\Python\\Python310\\lib\\site-packages\\sklearn\\neural_network\\_multilayer_perceptron.py:702: ConvergenceWarning: Stochastic Optimizer: Maximum iterations (100) reached and the optimization hasn't converged yet.\n",
      "  warnings.warn(\n"
     ]
    },
    {
     "name": "stdout",
     "output_type": "stream",
     "text": [
      "[CV 2/2; 31/36] END model__alpha=1e-06, model__hidden_layer_sizes=(500,), model__learning_rate_init=0.0001, model__max_iter=100;, score=0.757 total time=   0.3s\n",
      "[CV 1/2; 32/36] START model__alpha=1e-06, model__hidden_layer_sizes=(500,), model__learning_rate_init=0.0001, model__max_iter=200\n"
     ]
    },
    {
     "name": "stderr",
     "output_type": "stream",
     "text": [
      "C:\\Users\\dimar\\AppData\\Local\\Programs\\Python\\Python310\\lib\\site-packages\\sklearn\\neural_network\\_multilayer_perceptron.py:702: ConvergenceWarning: Stochastic Optimizer: Maximum iterations (200) reached and the optimization hasn't converged yet.\n",
      "  warnings.warn(\n"
     ]
    },
    {
     "name": "stdout",
     "output_type": "stream",
     "text": [
      "[CV 1/2; 32/36] END model__alpha=1e-06, model__hidden_layer_sizes=(500,), model__learning_rate_init=0.0001, model__max_iter=200;, score=0.762 total time=   0.7s\n",
      "[CV 2/2; 32/36] START model__alpha=1e-06, model__hidden_layer_sizes=(500,), model__learning_rate_init=0.0001, model__max_iter=200\n"
     ]
    },
    {
     "name": "stderr",
     "output_type": "stream",
     "text": [
      "C:\\Users\\dimar\\AppData\\Local\\Programs\\Python\\Python310\\lib\\site-packages\\sklearn\\neural_network\\_multilayer_perceptron.py:702: ConvergenceWarning: Stochastic Optimizer: Maximum iterations (200) reached and the optimization hasn't converged yet.\n",
      "  warnings.warn(\n"
     ]
    },
    {
     "name": "stdout",
     "output_type": "stream",
     "text": [
      "[CV 2/2; 32/36] END model__alpha=1e-06, model__hidden_layer_sizes=(500,), model__learning_rate_init=0.0001, model__max_iter=200;, score=0.760 total time=   0.7s\n",
      "[CV 1/2; 33/36] START model__alpha=1e-06, model__hidden_layer_sizes=(500,), model__learning_rate_init=0.0001, model__max_iter=300\n"
     ]
    },
    {
     "name": "stderr",
     "output_type": "stream",
     "text": [
      "C:\\Users\\dimar\\AppData\\Local\\Programs\\Python\\Python310\\lib\\site-packages\\sklearn\\neural_network\\_multilayer_perceptron.py:702: ConvergenceWarning: Stochastic Optimizer: Maximum iterations (300) reached and the optimization hasn't converged yet.\n",
      "  warnings.warn(\n"
     ]
    },
    {
     "name": "stdout",
     "output_type": "stream",
     "text": [
      "[CV 1/2; 33/36] END model__alpha=1e-06, model__hidden_layer_sizes=(500,), model__learning_rate_init=0.0001, model__max_iter=300;, score=0.760 total time=   1.1s\n",
      "[CV 2/2; 33/36] START model__alpha=1e-06, model__hidden_layer_sizes=(500,), model__learning_rate_init=0.0001, model__max_iter=300\n"
     ]
    },
    {
     "name": "stderr",
     "output_type": "stream",
     "text": [
      "C:\\Users\\dimar\\AppData\\Local\\Programs\\Python\\Python310\\lib\\site-packages\\sklearn\\neural_network\\_multilayer_perceptron.py:702: ConvergenceWarning: Stochastic Optimizer: Maximum iterations (300) reached and the optimization hasn't converged yet.\n",
      "  warnings.warn(\n"
     ]
    },
    {
     "name": "stdout",
     "output_type": "stream",
     "text": [
      "[CV 2/2; 33/36] END model__alpha=1e-06, model__hidden_layer_sizes=(500,), model__learning_rate_init=0.0001, model__max_iter=300;, score=0.752 total time=   1.1s\n",
      "[CV 1/2; 34/36] START model__alpha=1e-06, model__hidden_layer_sizes=(500,), model__learning_rate_init=0.05, model__max_iter=100\n",
      "[CV 1/2; 34/36] END model__alpha=1e-06, model__hidden_layer_sizes=(500,), model__learning_rate_init=0.05, model__max_iter=100;, score=0.723 total time=   0.1s\n",
      "[CV 2/2; 34/36] START model__alpha=1e-06, model__hidden_layer_sizes=(500,), model__learning_rate_init=0.05, model__max_iter=100\n",
      "[CV 2/2; 34/36] END model__alpha=1e-06, model__hidden_layer_sizes=(500,), model__learning_rate_init=0.05, model__max_iter=100;, score=0.705 total time=   0.2s\n",
      "[CV 1/2; 35/36] START model__alpha=1e-06, model__hidden_layer_sizes=(500,), model__learning_rate_init=0.05, model__max_iter=200\n",
      "[CV 1/2; 35/36] END model__alpha=1e-06, model__hidden_layer_sizes=(500,), model__learning_rate_init=0.05, model__max_iter=200;, score=0.743 total time=   0.1s\n",
      "[CV 2/2; 35/36] START model__alpha=1e-06, model__hidden_layer_sizes=(500,), model__learning_rate_init=0.05, model__max_iter=200\n",
      "[CV 2/2; 35/36] END model__alpha=1e-06, model__hidden_layer_sizes=(500,), model__learning_rate_init=0.05, model__max_iter=200;, score=0.700 total time=   0.1s\n",
      "[CV 1/2; 36/36] START model__alpha=1e-06, model__hidden_layer_sizes=(500,), model__learning_rate_init=0.05, model__max_iter=300\n",
      "[CV 1/2; 36/36] END model__alpha=1e-06, model__hidden_layer_sizes=(500,), model__learning_rate_init=0.05, model__max_iter=300;, score=0.740 total time=   0.1s\n",
      "[CV 2/2; 36/36] START model__alpha=1e-06, model__hidden_layer_sizes=(500,), model__learning_rate_init=0.05, model__max_iter=300\n",
      "[CV 2/2; 36/36] END model__alpha=1e-06, model__hidden_layer_sizes=(500,), model__learning_rate_init=0.05, model__max_iter=300;, score=0.700 total time=   0.1s\n"
     ]
    },
    {
     "name": "stderr",
     "output_type": "stream",
     "text": [
      "C:\\Users\\dimar\\AppData\\Local\\Programs\\Python\\Python310\\lib\\site-packages\\sklearn\\neural_network\\_multilayer_perceptron.py:702: ConvergenceWarning: Stochastic Optimizer: Maximum iterations (200) reached and the optimization hasn't converged yet.\n",
      "  warnings.warn(\n"
     ]
    },
    {
     "data": {
      "text/html": [
       "<style>#sk-container-id-44 {color: black;background-color: white;}#sk-container-id-44 pre{padding: 0;}#sk-container-id-44 div.sk-toggleable {background-color: white;}#sk-container-id-44 label.sk-toggleable__label {cursor: pointer;display: block;width: 100%;margin-bottom: 0;padding: 0.3em;box-sizing: border-box;text-align: center;}#sk-container-id-44 label.sk-toggleable__label-arrow:before {content: \"▸\";float: left;margin-right: 0.25em;color: #696969;}#sk-container-id-44 label.sk-toggleable__label-arrow:hover:before {color: black;}#sk-container-id-44 div.sk-estimator:hover label.sk-toggleable__label-arrow:before {color: black;}#sk-container-id-44 div.sk-toggleable__content {max-height: 0;max-width: 0;overflow: hidden;text-align: left;background-color: #f0f8ff;}#sk-container-id-44 div.sk-toggleable__content pre {margin: 0.2em;color: black;border-radius: 0.25em;background-color: #f0f8ff;}#sk-container-id-44 input.sk-toggleable__control:checked~div.sk-toggleable__content {max-height: 200px;max-width: 100%;overflow: auto;}#sk-container-id-44 input.sk-toggleable__control:checked~label.sk-toggleable__label-arrow:before {content: \"▾\";}#sk-container-id-44 div.sk-estimator input.sk-toggleable__control:checked~label.sk-toggleable__label {background-color: #d4ebff;}#sk-container-id-44 div.sk-label input.sk-toggleable__control:checked~label.sk-toggleable__label {background-color: #d4ebff;}#sk-container-id-44 input.sk-hidden--visually {border: 0;clip: rect(1px 1px 1px 1px);clip: rect(1px, 1px, 1px, 1px);height: 1px;margin: -1px;overflow: hidden;padding: 0;position: absolute;width: 1px;}#sk-container-id-44 div.sk-estimator {font-family: monospace;background-color: #f0f8ff;border: 1px dotted black;border-radius: 0.25em;box-sizing: border-box;margin-bottom: 0.5em;}#sk-container-id-44 div.sk-estimator:hover {background-color: #d4ebff;}#sk-container-id-44 div.sk-parallel-item::after {content: \"\";width: 100%;border-bottom: 1px solid gray;flex-grow: 1;}#sk-container-id-44 div.sk-label:hover label.sk-toggleable__label {background-color: #d4ebff;}#sk-container-id-44 div.sk-serial::before {content: \"\";position: absolute;border-left: 1px solid gray;box-sizing: border-box;top: 0;bottom: 0;left: 50%;z-index: 0;}#sk-container-id-44 div.sk-serial {display: flex;flex-direction: column;align-items: center;background-color: white;padding-right: 0.2em;padding-left: 0.2em;position: relative;}#sk-container-id-44 div.sk-item {position: relative;z-index: 1;}#sk-container-id-44 div.sk-parallel {display: flex;align-items: stretch;justify-content: center;background-color: white;position: relative;}#sk-container-id-44 div.sk-item::before, #sk-container-id-44 div.sk-parallel-item::before {content: \"\";position: absolute;border-left: 1px solid gray;box-sizing: border-box;top: 0;bottom: 0;left: 50%;z-index: -1;}#sk-container-id-44 div.sk-parallel-item {display: flex;flex-direction: column;z-index: 1;position: relative;background-color: white;}#sk-container-id-44 div.sk-parallel-item:first-child::after {align-self: flex-end;width: 50%;}#sk-container-id-44 div.sk-parallel-item:last-child::after {align-self: flex-start;width: 50%;}#sk-container-id-44 div.sk-parallel-item:only-child::after {width: 0;}#sk-container-id-44 div.sk-dashed-wrapped {border: 1px dashed gray;margin: 0 0.4em 0.5em 0.4em;box-sizing: border-box;padding-bottom: 0.4em;background-color: white;}#sk-container-id-44 div.sk-label label {font-family: monospace;font-weight: bold;display: inline-block;line-height: 1.2em;}#sk-container-id-44 div.sk-label-container {text-align: center;}#sk-container-id-44 div.sk-container {/* jupyter's `normalize.less` sets `[hidden] { display: none; }` but bootstrap.min.css set `[hidden] { display: none !important; }` so we also need the `!important` here to be able to override the default hidden behavior on the sphinx rendered scikit-learn.org. See: https://github.com/scikit-learn/scikit-learn/issues/21755 */display: inline-block !important;position: relative;}#sk-container-id-44 div.sk-text-repr-fallback {display: none;}</style><div id=\"sk-container-id-44\" class=\"sk-top-container\"><div class=\"sk-text-repr-fallback\"><pre>GridSearchCV(cv=2,\n",
       "             estimator=Pipeline(steps=[(&#x27;scaler&#x27;, StandardScaler()),\n",
       "                                       (&#x27;model&#x27;, MLPClassifier())]),\n",
       "             param_grid={&#x27;model__alpha&#x27;: [1e-07, 1e-06],\n",
       "                         &#x27;model__hidden_layer_sizes&#x27;: [(50,), (500,)],\n",
       "                         &#x27;model__learning_rate_init&#x27;: [0.005, 0.0001, 0.05],\n",
       "                         &#x27;model__max_iter&#x27;: [100, 200, 300]},\n",
       "             verbose=10)</pre><b>In a Jupyter environment, please rerun this cell to show the HTML representation or trust the notebook. <br />On GitHub, the HTML representation is unable to render, please try loading this page with nbviewer.org.</b></div><div class=\"sk-container\" hidden><div class=\"sk-item sk-dashed-wrapped\"><div class=\"sk-label-container\"><div class=\"sk-label sk-toggleable\"><input class=\"sk-toggleable__control sk-hidden--visually\" id=\"sk-estimator-id-157\" type=\"checkbox\" ><label for=\"sk-estimator-id-157\" class=\"sk-toggleable__label sk-toggleable__label-arrow\">GridSearchCV</label><div class=\"sk-toggleable__content\"><pre>GridSearchCV(cv=2,\n",
       "             estimator=Pipeline(steps=[(&#x27;scaler&#x27;, StandardScaler()),\n",
       "                                       (&#x27;model&#x27;, MLPClassifier())]),\n",
       "             param_grid={&#x27;model__alpha&#x27;: [1e-07, 1e-06],\n",
       "                         &#x27;model__hidden_layer_sizes&#x27;: [(50,), (500,)],\n",
       "                         &#x27;model__learning_rate_init&#x27;: [0.005, 0.0001, 0.05],\n",
       "                         &#x27;model__max_iter&#x27;: [100, 200, 300]},\n",
       "             verbose=10)</pre></div></div></div><div class=\"sk-parallel\"><div class=\"sk-parallel-item\"><div class=\"sk-item\"><div class=\"sk-label-container\"><div class=\"sk-label sk-toggleable\"><input class=\"sk-toggleable__control sk-hidden--visually\" id=\"sk-estimator-id-158\" type=\"checkbox\" ><label for=\"sk-estimator-id-158\" class=\"sk-toggleable__label sk-toggleable__label-arrow\">estimator: Pipeline</label><div class=\"sk-toggleable__content\"><pre>Pipeline(steps=[(&#x27;scaler&#x27;, StandardScaler()), (&#x27;model&#x27;, MLPClassifier())])</pre></div></div></div><div class=\"sk-serial\"><div class=\"sk-item\"><div class=\"sk-serial\"><div class=\"sk-item\"><div class=\"sk-estimator sk-toggleable\"><input class=\"sk-toggleable__control sk-hidden--visually\" id=\"sk-estimator-id-159\" type=\"checkbox\" ><label for=\"sk-estimator-id-159\" class=\"sk-toggleable__label sk-toggleable__label-arrow\">StandardScaler</label><div class=\"sk-toggleable__content\"><pre>StandardScaler()</pre></div></div></div><div class=\"sk-item\"><div class=\"sk-estimator sk-toggleable\"><input class=\"sk-toggleable__control sk-hidden--visually\" id=\"sk-estimator-id-160\" type=\"checkbox\" ><label for=\"sk-estimator-id-160\" class=\"sk-toggleable__label sk-toggleable__label-arrow\">MLPClassifier</label><div class=\"sk-toggleable__content\"><pre>MLPClassifier()</pre></div></div></div></div></div></div></div></div></div></div></div></div>"
      ],
      "text/plain": [
       "GridSearchCV(cv=2,\n",
       "             estimator=Pipeline(steps=[('scaler', StandardScaler()),\n",
       "                                       ('model', MLPClassifier())]),\n",
       "             param_grid={'model__alpha': [1e-07, 1e-06],\n",
       "                         'model__hidden_layer_sizes': [(50,), (500,)],\n",
       "                         'model__learning_rate_init': [0.005, 0.0001, 0.05],\n",
       "                         'model__max_iter': [100, 200, 300]},\n",
       "             verbose=10)"
      ]
     },
     "execution_count": 246,
     "metadata": {},
     "output_type": "execute_result"
    }
   ],
   "source": [
    "grid_mlp.fit(X_train, y_train)"
   ]
  },
  {
   "cell_type": "code",
   "execution_count": 247,
   "id": "6c2a46ad",
   "metadata": {},
   "outputs": [
    {
     "data": {
      "text/plain": [
       "0.802"
      ]
     },
     "execution_count": 247,
     "metadata": {},
     "output_type": "execute_result"
    }
   ],
   "source": [
    "roc_auc_score(y_test, grid_mlp.predict_proba(X_test)[:, 1]).round(3)"
   ]
  },
  {
   "cell_type": "code",
   "execution_count": 248,
   "id": "20ed25f3",
   "metadata": {},
   "outputs": [
    {
     "data": {
      "text/plain": [
       "{'model__alpha': 1e-06,\n",
       " 'model__hidden_layer_sizes': (500,),\n",
       " 'model__learning_rate_init': 0.0001,\n",
       " 'model__max_iter': 200}"
      ]
     },
     "execution_count": 248,
     "metadata": {},
     "output_type": "execute_result"
    }
   ],
   "source": [
    "grid_mlp.best_params_"
   ]
  },
  {
   "cell_type": "code",
   "execution_count": 249,
   "id": "1a797c77",
   "metadata": {},
   "outputs": [
    {
     "name": "stdout",
     "output_type": "stream",
     "text": [
      "Best: 0.802\n"
     ]
    }
   ],
   "source": [
    "print(f'Best: {roc_auc_score(y_test, grid_mlp.predict_proba(X_test)[:, 1]).round(3)}')"
   ]
  },
  {
   "cell_type": "code",
   "execution_count": null,
   "id": "c79d00e7",
   "metadata": {},
   "outputs": [],
   "source": []
  }
 ],
 "metadata": {
  "kernelspec": {
   "display_name": "Python 3 (ipykernel)",
   "language": "python",
   "name": "python3"
  },
  "language_info": {
   "codemirror_mode": {
    "name": "ipython",
    "version": 3
   },
   "file_extension": ".py",
   "mimetype": "text/x-python",
   "name": "python",
   "nbconvert_exporter": "python",
   "pygments_lexer": "ipython3",
   "version": "3.10.0"
  }
 },
 "nbformat": 4,
 "nbformat_minor": 5
}
